{
  "nbformat": 4,
  "nbformat_minor": 0,
  "metadata": {
    "colab": {
      "provenance": []
    },
    "kernelspec": {
      "name": "python3",
      "display_name": "Python 3"
    },
    "language_info": {
      "name": "python"
    }
  },
  "cells": [
    {
      "cell_type": "code",
      "execution_count": null,
      "metadata": {
        "colab": {
          "base_uri": "https://localhost:8080/"
        },
        "id": "D8vvsg3YCxi7",
        "outputId": "43abcaf1-57af-48d3-8028-f3c37cc27daa"
      },
      "outputs": [
        {
          "output_type": "stream",
          "name": "stdout",
          "text": [
            "Collecting pymysql\n",
            "  Downloading pymysql-1.1.2-py3-none-any.whl.metadata (4.3 kB)\n",
            "Downloading pymysql-1.1.2-py3-none-any.whl (45 kB)\n",
            "\u001b[?25l   \u001b[90m━━━━━━━━━━━━━━━━━━━━━━━━━━━━━━━━━━━━━━━━\u001b[0m \u001b[32m0.0/45.3 kB\u001b[0m \u001b[31m?\u001b[0m eta \u001b[36m-:--:--\u001b[0m\r\u001b[2K   \u001b[90m━━━━━━━━━━━━━━━━━━━━━━━━━━━━━━━━━━━━━━━━\u001b[0m \u001b[32m45.3/45.3 kB\u001b[0m \u001b[31m1.8 MB/s\u001b[0m eta \u001b[36m0:00:00\u001b[0m\n",
            "\u001b[?25hInstalling collected packages: pymysql\n",
            "Successfully installed pymysql-1.1.2\n"
          ]
        }
      ],
      "source": [
        "pip install pymysql"
      ]
    },
    {
      "cell_type": "code",
      "source": [
        "import pymysql"
      ],
      "metadata": {
        "id": "TxKuYFL-D0Mc"
      },
      "execution_count": null,
      "outputs": []
    },
    {
      "cell_type": "markdown",
      "source": [
        "**Now connect to the cloud database using connectivity parameters**"
      ],
      "metadata": {
        "id": "77VFrRV3D6Rv"
      }
    },
    {
      "cell_type": "code",
      "source": [
        "con=pymysql.connect(host='mysql-pyprojects-python-apps.b.aivencloud.com',port=18733,user='praffull',password='AVNS_rAHnLeXr31XIltE9DAh',database='sharayudb')\n",
        "print('connected successfully to MySQL Cloud DB Singapore server...')"
      ],
      "metadata": {
        "colab": {
          "base_uri": "https://localhost:8080/"
        },
        "id": "1AJW8nyTD4Un",
        "outputId": "752209ac-ec2c-412b-9e30-b09caf769177"
      },
      "execution_count": null,
      "outputs": [
        {
          "output_type": "stream",
          "name": "stdout",
          "text": [
            "connected successfully to MySQL Cloud DB Singapore server...\n"
          ]
        }
      ]
    },
    {
      "cell_type": "code",
      "source": [
        "curs=con.cursor()"
      ],
      "metadata": {
        "id": "pB8iPvEfFVU2"
      },
      "execution_count": null,
      "outputs": []
    },
    {
      "cell_type": "code",
      "source": [
        "curs.execute(\"select * from students\")\n",
        "data=curs.fetchall()\n",
        "print(data)"
      ],
      "metadata": {
        "colab": {
          "base_uri": "https://localhost:8080/"
        },
        "id": "coFAt9YUFejc",
        "outputId": "efee83f2-56d8-4b68-c617-d00909779cd7"
      },
      "execution_count": null,
      "outputs": [
        {
          "output_type": "stream",
          "name": "stdout",
          "text": [
            "((121, 'tom cruise', 'generative ai'), (122, 'keanu reeves', 'core python'), (127, 'amir khan', 'mongodb atlas'))\n"
          ]
        }
      ]
    },
    {
      "cell_type": "code",
      "source": [
        "curs.execute(\"select * from employees\")\n",
        "data=curs.fetchall()\n",
        "print(data)"
      ],
      "metadata": {
        "colab": {
          "base_uri": "https://localhost:8080/"
        },
        "id": "t4EGgFPWFxYm",
        "outputId": "e81e509a-eda5-42a7-a73f-98a16234f574"
      },
      "execution_count": null,
      "outputs": [
        {
          "output_type": "stream",
          "name": "stdout",
          "text": [
            "((101, 'praffull', 'data', 'analyst', 'mumbai', 35900.0), (102, 'sharayu', 'development', 'spring developer', 'hyderabad', 48700.0))\n"
          ]
        }
      ]
    },
    {
      "cell_type": "code",
      "source": [
        "curs.execute(\"select * from accounts\")\n",
        "data=curs.fetchall()\n",
        "print(data)"
      ],
      "metadata": {
        "colab": {
          "base_uri": "https://localhost:8080/"
        },
        "id": "7sIjhulKF9AL",
        "outputId": "f516b7dd-6894-4ae6-f71c-a6d91ce55c8c"
      },
      "execution_count": null,
      "outputs": [
        {
          "output_type": "stream",
          "name": "stdout",
          "text": [
            "((1001, 'Joe Root', 'saving', 113000.0), (1002, 'Alexis Mac Allister', 'current', 28900.0), (1003, 'Ben Stokes', 'fixed', 55000.0), (1004, 'Marcus Rashford', 'ppf', 47600.0), (1005, 'Jofra Archer', 'saving', 30300.0), (1006, 'Bukayo Saka', 'current', 31200.0), (1007, 'Jos Buttler', 'ppf', 63400.0), (1008, 'Phil Foden', 'fixed', 29200.0), (1009, 'Moeen Ali', 'saving', 39200.0), (1010, 'Jack Grealish', 'current', 80100.0), (1011, 'Chris Woakes', 'ppf', 97300.0), (1012, 'Declan Rice', 'fixed', 58800.0), (1013, 'Sam Curran', 'saving', 40400.0), (1014, 'Cole Palmer', 'current', 50500.0), (1015, 'Jonny Bairstow', 'ppf', 48700.0), (1016, 'James Maddison', 'fixed', 29400.0), (1017, 'Ollie Pope', 'saving', 68600.0), (1018, 'Jordan Henderson', 'current', 49700.0), (1019, 'Ben Stokes', 'ppf', 36500.0), (1020, 'Trent Alexander-Arnold', 'fixed', 70800.0), (1021, 'Mark Wood', 'saving', 39400.0), (1022, 'Mason Mount', 'current', 39500.0), (1023, 'Alexander Isak', 'ppf', 57200.0), (1024, 'Mohammed Salah', 'fixed', 30200.0), (1025, 'Liam Livingstone', 'saving', 69200.0), (1026, 'Callum Wilson', 'current', 79300.0), (1027, 'Alex Hales', 'ppf', 79900.0), (1028, 'Kalvin Phillips', 'fixed', 78800.0), (1029, 'David Willey', 'saving', 58100.0), (1030, 'Dominik Szoboszlai', 'current', 89400.0), (1031, 'Tom Banton', 'ppf', 98100.0), (1032, 'Luke Shaw', 'fixed', 88700.0), (1033, 'Sam Billings', 'saving', 49700.0), (1034, 'Kieran Trippier', 'current', 39800.0), (1035, 'Pat Cummins', 'ppf', 58900.0), (1036, 'James Tarkowski', 'fixed', 79500.0), (1037, 'Dom Sibley', 'saving', 89200.0), (1038, 'Harvey Barnes', 'current', 50200.0), (1039, 'Sadio Mane', 'ppf', 49400.0), (1040, 'Tyrone Mings', 'fixed', 49900.0), (1041, 'Steven Finn', 'saving', 59300.0), (1042, 'Anthony Gordon', 'current', 69700.0), (1043, 'Danny Briggs', 'ppf', 69300.0), (1044, 'Darwin Nunez', 'fixed', 69100.0), (1045, 'Steve Smith', 'saving', 49400.0), (1046, 'James Justin', 'current', 59400.0), (1047, 'Enzo Fernandez', 'ppf', 68700.0), (1048, 'Lewis Dunk', 'fixed', 39800.0), (1049, 'Chris Jordan', 'saving', 29700.0), (1050, 'Virgil Van Dijk', 'current', 79900.0))\n"
          ]
        }
      ]
    },
    {
      "cell_type": "code",
      "source": [
        "con.close()"
      ],
      "metadata": {
        "id": "gtIU_d3kGTpE"
      },
      "execution_count": null,
      "outputs": []
    }
  ]
}