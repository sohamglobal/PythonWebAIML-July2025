{
  "nbformat": 4,
  "nbformat_minor": 0,
  "metadata": {
    "colab": {
      "provenance": []
    },
    "kernelspec": {
      "name": "python3",
      "display_name": "Python 3"
    },
    "language_info": {
      "name": "python"
    }
  },
  "cells": [
    {
      "cell_type": "code",
      "execution_count": 1,
      "metadata": {
        "colab": {
          "base_uri": "https://localhost:8080/"
        },
        "id": "clLrVfXH3gH4",
        "outputId": "3d630855-a006-4038-97ec-6150c9a801d9"
      },
      "outputs": [
        {
          "output_type": "stream",
          "name": "stdout",
          "text": [
            "Collecting pymysql\n",
            "  Downloading pymysql-1.1.2-py3-none-any.whl.metadata (4.3 kB)\n",
            "Downloading pymysql-1.1.2-py3-none-any.whl (45 kB)\n",
            "\u001b[2K   \u001b[90m━━━━━━━━━━━━━━━━━━━━━━━━━━━━━━━━━━━━━━━━\u001b[0m \u001b[32m45.3/45.3 kB\u001b[0m \u001b[31m1.2 MB/s\u001b[0m eta \u001b[36m0:00:00\u001b[0m\n",
            "\u001b[?25hInstalling collected packages: pymysql\n",
            "Successfully installed pymysql-1.1.2\n"
          ]
        }
      ],
      "source": [
        "pip install pymysql"
      ]
    },
    {
      "cell_type": "code",
      "source": [
        "import pymysql"
      ],
      "metadata": {
        "id": "uI-1HvvD3uai"
      },
      "execution_count": 2,
      "outputs": []
    },
    {
      "cell_type": "code",
      "source": [
        "con=pymysql.connect(host='mysql-pyprojects-python-apps.b.aivencloud.com',port=18733,user='praffull',password='AVNS_rAHnLeXr31XIltE9DAh',database='sharayudb')\n",
        "print('connected to mysql cloud database successfully')"
      ],
      "metadata": {
        "colab": {
          "base_uri": "https://localhost:8080/"
        },
        "id": "N5lYHeynukeq",
        "outputId": "54f43cb2-ca9a-4d90-fc56-b9e43bf8c4ca"
      },
      "execution_count": 3,
      "outputs": [
        {
          "output_type": "stream",
          "name": "stdout",
          "text": [
            "connected to mysql cloud database successfully\n"
          ]
        }
      ]
    },
    {
      "cell_type": "code",
      "source": [
        "curs=con.cursor()"
      ],
      "metadata": {
        "id": "cNbwfJr533M6"
      },
      "execution_count": 4,
      "outputs": []
    },
    {
      "cell_type": "code",
      "source": [
        "no=int(input('Enter student registration number : '))\n",
        "curs.execute(f\"select * from students where regno={no}\")\n",
        "data=curs.fetchone()\n",
        "#print(data)\n",
        "try:\n",
        "  print(f\"Student Name : {data[1]}\")\n",
        "  print(f\"Course : {data[2]}\")\n",
        "except:\n",
        "  print('student does not exist')"
      ],
      "metadata": {
        "colab": {
          "base_uri": "https://localhost:8080/"
        },
        "id": "I5FZanIT35xe",
        "outputId": "c5e3bbe1-5878-494d-e6b2-98b2db6057e9"
      },
      "execution_count": 5,
      "outputs": [
        {
          "output_type": "stream",
          "name": "stdout",
          "text": [
            "Enter student registration number : 122\n",
            "Student Name : keanu reeves\n",
            "Course : core python\n"
          ]
        }
      ]
    },
    {
      "cell_type": "code",
      "source": [
        "ty=input('Enter account number to search : ')\n",
        "curs.execute(f\"select * from accounts where acctype='{ty}'\")\n",
        "data=curs.fetchall()\n",
        "#print(data)\n",
        "for acc in data:\n",
        "  print(acc[1])"
      ],
      "metadata": {
        "colab": {
          "base_uri": "https://localhost:8080/"
        },
        "id": "dCyvHv9p7Zk_",
        "outputId": "40c9ef47-af1c-483b-b473-79e7d90170fb"
      },
      "execution_count": 6,
      "outputs": [
        {
          "output_type": "stream",
          "name": "stdout",
          "text": [
            "Enter account number to search : fixed\n",
            "Ben Stokes\n",
            "Phil Foden\n",
            "Declan Rice\n",
            "James Maddison\n",
            "Trent Alexander-Arnold\n",
            "Mohammed Salah\n",
            "Kalvin Phillips\n",
            "Luke Shaw\n",
            "James Tarkowski\n",
            "Tyrone Mings\n",
            "Darwin Nunez\n",
            "Lewis Dunk\n",
            "Sharayu\n"
          ]
        }
      ]
    },
    {
      "cell_type": "code",
      "source": [
        "brand=input('Enter car company name : ')\n",
        "curs.execute(f\"select * from cars where company='{brand}'\")\n",
        "data=curs.fetchall()\n",
        "for car in data:\n",
        "  print(car)"
      ],
      "metadata": {
        "colab": {
          "base_uri": "https://localhost:8080/"
        },
        "id": "SLnkbXEk8hOU",
        "outputId": "dfe10ee8-ff89-4ffa-b077-e8eac40bfea4"
      },
      "execution_count": 7,
      "outputs": [
        {
          "output_type": "stream",
          "name": "stdout",
          "text": [
            "Enter car company name : honda\n",
            "('ho161', 'City', 'Honda', 950000.0)\n",
            "('ho162', 'Amaze', 'Honda', 665000.0)\n"
          ]
        }
      ]
    },
    {
      "cell_type": "code",
      "source": [
        "sub=input('Enter subject in course name : ')\n",
        "curs.execute(f\"select * from students where course like '%{sub}%'\")\n",
        "data=curs.fetchall()\n",
        "#print(data)\n",
        "for stud in data:\n",
        "  print(stud)"
      ],
      "metadata": {
        "colab": {
          "base_uri": "https://localhost:8080/"
        },
        "id": "6bSfGwA87Pds",
        "outputId": "39cc1602-184c-4ef4-8f09-f12eefee29b3"
      },
      "execution_count": 13,
      "outputs": [
        {
          "output_type": "stream",
          "name": "stdout",
          "text": [
            "Enter subject in course name : data\n",
            "(123, 'aditi deshpande', 'data science')\n",
            "(128, 'kartikesh tongase', 'data analyst')\n",
            "(131, 'Bhagyashree', 'AI-ML and Data Science')\n",
            "(132, 'Milind', 'Data Analytics')\n",
            "(221, 'Shrutesh Wadibhasme', 'AI and Data science')\n",
            "(331, 'Mansi Kalse', 'data ')\n"
          ]
        }
      ]
    },
    {
      "cell_type": "code",
      "source": [
        "con.close()"
      ],
      "metadata": {
        "id": "05JKu3wa9k9A"
      },
      "execution_count": 14,
      "outputs": []
    }
  ]
}