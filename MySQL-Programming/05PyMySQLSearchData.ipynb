{
  "nbformat": 4,
  "nbformat_minor": 0,
  "metadata": {
    "colab": {
      "provenance": []
    },
    "kernelspec": {
      "name": "python3",
      "display_name": "Python 3"
    },
    "language_info": {
      "name": "python"
    }
  },
  "cells": [
    {
      "cell_type": "code",
      "execution_count": 1,
      "metadata": {
        "colab": {
          "base_uri": "https://localhost:8080/"
        },
        "id": "clLrVfXH3gH4",
        "outputId": "a273b66d-ca7c-4cc5-8153-e42c6b43361d"
      },
      "outputs": [
        {
          "output_type": "stream",
          "name": "stdout",
          "text": [
            "Collecting pymysql\n",
            "  Downloading pymysql-1.1.2-py3-none-any.whl.metadata (4.3 kB)\n",
            "Downloading pymysql-1.1.2-py3-none-any.whl (45 kB)\n",
            "\u001b[?25l   \u001b[90m━━━━━━━━━━━━━━━━━━━━━━━━━━━━━━━━━━━━━━━━\u001b[0m \u001b[32m0.0/45.3 kB\u001b[0m \u001b[31m?\u001b[0m eta \u001b[36m-:--:--\u001b[0m\r\u001b[2K   \u001b[90m━━━━━━━━━━━━━━━━━━━━━━━━━━━━━━━━━━━━━━━━\u001b[0m \u001b[32m45.3/45.3 kB\u001b[0m \u001b[31m2.1 MB/s\u001b[0m eta \u001b[36m0:00:00\u001b[0m\n",
            "\u001b[?25hInstalling collected packages: pymysql\n",
            "Successfully installed pymysql-1.1.2\n"
          ]
        }
      ],
      "source": [
        "pip install pymysql"
      ]
    },
    {
      "cell_type": "code",
      "source": [
        "import pymysql"
      ],
      "metadata": {
        "id": "uI-1HvvD3uai"
      },
      "execution_count": 2,
      "outputs": []
    },
    {
      "cell_type": "code",
      "source": [
        "con=pymysql.connect(host='mysql-pyprojects-python-apps.b.aivencloud.com',port=18733,user='praffull',password='AVNS_rAHnLeXr31XIltE9DAh',database='sharayudb')\n",
        "print('connected to mysql cloud database successfully')"
      ],
      "metadata": {
        "colab": {
          "base_uri": "https://localhost:8080/"
        },
        "id": "N5lYHeynukeq",
        "outputId": "fcfe0e3a-1a4c-4a9a-88de-2f68f2b5bd54"
      },
      "execution_count": 3,
      "outputs": [
        {
          "output_type": "stream",
          "name": "stdout",
          "text": [
            "connected to mysql cloud database successfully\n"
          ]
        }
      ]
    },
    {
      "cell_type": "code",
      "source": [
        "curs=con.cursor()"
      ],
      "metadata": {
        "id": "cNbwfJr533M6"
      },
      "execution_count": 4,
      "outputs": []
    },
    {
      "cell_type": "code",
      "source": [
        "no=int(input('Enter student registration number : '))\n",
        "curs.execute(f\"select * from students where regno={no}\")\n",
        "data=curs.fetchone()\n",
        "#print(data)\n",
        "try:\n",
        "  print(f\"Student Name : {data[1]}\")\n",
        "  print(f\"Course : {data[2]}\")\n",
        "except:\n",
        "  print('student does not exist')"
      ],
      "metadata": {
        "colab": {
          "base_uri": "https://localhost:8080/"
        },
        "id": "I5FZanIT35xe",
        "outputId": "304bdc30-1f66-4c34-e112-aaee3e28c53e"
      },
      "execution_count": 13,
      "outputs": [
        {
          "output_type": "stream",
          "name": "stdout",
          "text": [
            "Enter student registration number : 155\n",
            "student does not exist\n"
          ]
        }
      ]
    },
    {
      "cell_type": "code",
      "source": [
        "ty=input('Enter account number to search : ')\n",
        "curs.execute(f\"select * from accounts where acctype='{ty}'\")\n",
        "data=curs.fetchall()\n",
        "#print(data)\n",
        "for acc in data:\n",
        "  print(acc[1])"
      ],
      "metadata": {
        "colab": {
          "base_uri": "https://localhost:8080/"
        },
        "id": "dCyvHv9p7Zk_",
        "outputId": "5ceb9999-9a4d-42e0-8dd0-542e9b704a16"
      },
      "execution_count": 17,
      "outputs": [
        {
          "output_type": "stream",
          "name": "stdout",
          "text": [
            "Enter account number to search : saving\n",
            "Joe Root\n",
            "Jofra Archer\n",
            "Moeen Ali\n",
            "Sam Curran\n",
            "Ollie Pope\n",
            "Mark Wood\n",
            "Liam Livingstone\n",
            "David Willey\n",
            "Sam Billings\n",
            "Dom Sibley\n",
            "Steven Finn\n",
            "Steve Smith\n",
            "Chris Jordan\n"
          ]
        }
      ]
    },
    {
      "cell_type": "code",
      "source": [
        "brand=input('Enter car company name : ')\n",
        "curs.execute(f\"select * from cars where company='{brand}'\")\n",
        "data=curs.fetchall()\n",
        "for car in data:\n",
        "  print(car)"
      ],
      "metadata": {
        "colab": {
          "base_uri": "https://localhost:8080/"
        },
        "id": "SLnkbXEk8hOU",
        "outputId": "55517d10-b237-424e-8c0b-14a080c2602b"
      },
      "execution_count": 20,
      "outputs": [
        {
          "output_type": "stream",
          "name": "stdout",
          "text": [
            "Enter car company name : maruti suzuki\n",
            "('ms131', 'Swift', 'Maruti Suzuki', 591000.0)\n",
            "('ms132', 'Grand Vitara', 'Maruti Suzuki', 1035000.0)\n",
            "('ms133', 'Brezza', 'Maruti Suzuki', 799000.0)\n",
            "('ms134', 'Baleno', 'Maruti Suzuki', 642000.0)\n",
            "('ms135', 'WagonR', 'Maruti Suzuki', 547000.0)\n"
          ]
        }
      ]
    },
    {
      "cell_type": "code",
      "source": [
        "con.close()"
      ],
      "metadata": {
        "id": "05JKu3wa9k9A"
      },
      "execution_count": 21,
      "outputs": []
    }
  ]
}