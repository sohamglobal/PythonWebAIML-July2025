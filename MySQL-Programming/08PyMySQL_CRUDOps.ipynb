{
  "nbformat": 4,
  "nbformat_minor": 0,
  "metadata": {
    "colab": {
      "provenance": []
    },
    "kernelspec": {
      "name": "python3",
      "display_name": "Python 3"
    },
    "language_info": {
      "name": "python"
    }
  },
  "cells": [
    {
      "cell_type": "markdown",
      "source": [
        "# CRUD project on laptops table"
      ],
      "metadata": {
        "id": "Pl0wqF5ZbO7F"
      }
    },
    {
      "cell_type": "markdown",
      "source": [
        "create table laptops\n",
        "(\n",
        "prodid int primary key auto_increment,\n",
        "modelnm varchar(100),\n",
        "brand varchar(30),\n",
        "processor varchar(50),\n",
        "screen float,\n",
        "ramgb int,\n",
        "storagegb int,\n",
        "price float\n",
        ");\n"
      ],
      "metadata": {
        "id": "qwaauFnobUAi"
      }
    },
    {
      "cell_type": "code",
      "execution_count": 1,
      "metadata": {
        "colab": {
          "base_uri": "https://localhost:8080/"
        },
        "id": "atIn-u5iNkCF",
        "outputId": "e2098852-4036-4877-f875-5ff573d9b203"
      },
      "outputs": [
        {
          "output_type": "stream",
          "name": "stdout",
          "text": [
            "Collecting pymysql\n",
            "  Downloading pymysql-1.1.2-py3-none-any.whl.metadata (4.3 kB)\n",
            "Downloading pymysql-1.1.2-py3-none-any.whl (45 kB)\n",
            "\u001b[?25l   \u001b[90m━━━━━━━━━━━━━━━━━━━━━━━━━━━━━━━━━━━━━━━━\u001b[0m \u001b[32m0.0/45.3 kB\u001b[0m \u001b[31m?\u001b[0m eta \u001b[36m-:--:--\u001b[0m\r\u001b[2K   \u001b[90m━━━━━━━━━━━━━━━━━━━━━━━━━━━━━━━━━━━━━━━━\u001b[0m \u001b[32m45.3/45.3 kB\u001b[0m \u001b[31m1.9 MB/s\u001b[0m eta \u001b[36m0:00:00\u001b[0m\n",
            "\u001b[?25hInstalling collected packages: pymysql\n",
            "Successfully installed pymysql-1.1.2\n"
          ]
        }
      ],
      "source": [
        "pip install pymysql"
      ]
    },
    {
      "cell_type": "code",
      "source": [
        "import pymysql"
      ],
      "metadata": {
        "id": "q_DAtyzZRkRY"
      },
      "execution_count": 2,
      "outputs": []
    },
    {
      "cell_type": "code",
      "source": [
        "con=pymysql.connect(host='mysql-pyprojects-python-apps.b.aivencloud.com',port=18733,user='praffull',password='AVNS_rAHnLeXr31XIltE9DAh',database='sharayudb')\n",
        "print('connected successfully to MySQL Cloud DB Singapore server...')"
      ],
      "metadata": {
        "colab": {
          "base_uri": "https://localhost:8080/"
        },
        "id": "-dFxzRdMRoep",
        "outputId": "a7a650a2-705e-49e7-ea4d-1d2812224b8c"
      },
      "execution_count": 3,
      "outputs": [
        {
          "output_type": "stream",
          "name": "stdout",
          "text": [
            "connected successfully to MySQL Cloud DB Singapore server...\n"
          ]
        }
      ]
    },
    {
      "cell_type": "markdown",
      "source": [
        "# CRUD operations of Laptops table"
      ],
      "metadata": {
        "id": "Ve3FoDPgR0z2"
      }
    },
    {
      "cell_type": "code",
      "source": [
        "# Function that inserts new data to the table\n",
        "def newlaptop():\n",
        "  nm=input('Enter model name : ')\n",
        "  br=input('Enter brand : ')\n",
        "  pr=input('Enter processor : ')\n",
        "  sc=float(input('Enter screen size : '))\n",
        "  rm=int(input('Enter RAM size in GB : '))\n",
        "  st=int(input('Enter storage SSD/HDD in GB : '))\n",
        "  co=float(input('Enter price : '))\n",
        "  curs=con.cursor()\n",
        "  curs.execute(f\"insert into laptops(modelnm,brand,processor,screen,ramgb,storagegb,price) values ('{nm}','{br}','{pr}',{sc},{rm},{st},{co})\")\n",
        "  con.commit()\n",
        "  print('New laptop added to DB')"
      ],
      "metadata": {
        "id": "-48Ai8DuR67k"
      },
      "execution_count": 4,
      "outputs": []
    },
    {
      "cell_type": "code",
      "source": [
        "# Function that displays all the data\n",
        "def showlaptops():\n",
        "  curs=con.cursor()\n",
        "  curs.execute(\"select * from laptops\")\n",
        "  data=curs.fetchall()\n",
        "  for lap in data:\n",
        "    print(lap)\n"
      ],
      "metadata": {
        "id": "idf9K_guTezq"
      },
      "execution_count": 5,
      "outputs": []
    },
    {
      "cell_type": "code",
      "source": [
        "# Function to search data (laptops on brand)\n",
        "def searchlaptops(comp):\n",
        "  curs=con.cursor()\n",
        "  curs.execute(f\"select * from laptops where brand='{comp}'\")\n",
        "  data=curs.fetchall()\n",
        "  for lap in data:\n",
        "    print(lap)"
      ],
      "metadata": {
        "id": "BW34uXdmT9nZ"
      },
      "execution_count": 13,
      "outputs": []
    },
    {
      "cell_type": "code",
      "source": [
        "# Function that modifies data (price of laptop)\n",
        "def modifyprice(lapid,newprice):\n",
        "  print('price modified')"
      ],
      "metadata": {
        "id": "kp-mdwukUNTm"
      },
      "execution_count": null,
      "outputs": []
    },
    {
      "cell_type": "code",
      "source": [
        "# Function that deletes data\n",
        "def deletelaptop(lapid):\n",
        "  print('laptop deleted')"
      ],
      "metadata": {
        "id": "yiVmanqAVOxs"
      },
      "execution_count": null,
      "outputs": []
    },
    {
      "cell_type": "code",
      "source": [
        "# Menu to perform CRUD operations\n",
        "cho=None\n",
        "while cho!=6:\n",
        "  print(\"1. Add new laptop\")\n",
        "  print(\"2. Show all laptops\")\n",
        "  print(\"3. Search laptops on brand\")\n",
        "  print(\"4. Update price\")\n",
        "  print(\"5. Delete a laptop\")\n",
        "  print(\"6. Exit\")\n",
        "  cho=int(input('Enter your choice : '))\n",
        "  if cho==1:\n",
        "    newlaptop()\n",
        "  elif cho==2:\n",
        "    showlaptops()\n",
        "  elif cho==3:\n",
        "    cnm=input('Enter company name : ')\n",
        "    searchlaptops(cnm)\n",
        "  else:\n",
        "    print('Invalid choice')"
      ],
      "metadata": {
        "colab": {
          "base_uri": "https://localhost:8080/"
        },
        "id": "HPUlt8-1VXjt",
        "outputId": "2b05251b-d0cd-41e2-ba5f-a0417beb73ea"
      },
      "execution_count": 18,
      "outputs": [
        {
          "output_type": "stream",
          "name": "stdout",
          "text": [
            "1. Add new laptop\n",
            "2. Show all laptops\n",
            "3. Search laptops on brand\n",
            "4. Exit\n",
            "Enter your choice : 2\n",
            "(1, 'latitude 5490', 'dell', 'i5 8th Generation', 14.0, 16, 512, 79000.0)\n",
            "(2, 'gravity', 'hp', 'i3', 15.6, 8, 1000, 36000.0)\n",
            "1. Add new laptop\n",
            "2. Show all laptops\n",
            "3. Search laptops on brand\n",
            "4. Exit\n",
            "Enter your choice : 4\n",
            "Invalid choice\n"
          ]
        }
      ]
    }
  ]
}