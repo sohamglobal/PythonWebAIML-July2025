{
  "nbformat": 4,
  "nbformat_minor": 0,
  "metadata": {
    "colab": {
      "provenance": []
    },
    "kernelspec": {
      "name": "python3",
      "display_name": "Python 3"
    },
    "language_info": {
      "name": "python"
    }
  },
  "cells": [
    {
      "cell_type": "code",
      "execution_count": null,
      "metadata": {
        "colab": {
          "base_uri": "https://localhost:8080/"
        },
        "id": "Kqm521Hz-1J9",
        "outputId": "16feb039-081b-4654-c9aa-6bf3394c5044"
      },
      "outputs": [
        {
          "output_type": "stream",
          "name": "stdout",
          "text": [
            "Collecting pymysql\n",
            "  Downloading pymysql-1.1.2-py3-none-any.whl.metadata (4.3 kB)\n",
            "Downloading pymysql-1.1.2-py3-none-any.whl (45 kB)\n",
            "\u001b[?25l   \u001b[90m━━━━━━━━━━━━━━━━━━━━━━━━━━━━━━━━━━━━━━━━\u001b[0m \u001b[32m0.0/45.3 kB\u001b[0m \u001b[31m?\u001b[0m eta \u001b[36m-:--:--\u001b[0m\r\u001b[2K   \u001b[90m━━━━━━━━━━━━━━━━━━━━━━━━━━━━━━━━━━━━━━━━\u001b[0m \u001b[32m45.3/45.3 kB\u001b[0m \u001b[31m2.0 MB/s\u001b[0m eta \u001b[36m0:00:00\u001b[0m\n",
            "\u001b[?25hInstalling collected packages: pymysql\n",
            "Successfully installed pymysql-1.1.2\n"
          ]
        }
      ],
      "source": [
        "pip install pymysql"
      ]
    },
    {
      "cell_type": "code",
      "source": [
        "import pymysql"
      ],
      "metadata": {
        "id": "vfU-_dny-_Te"
      },
      "execution_count": null,
      "outputs": []
    },
    {
      "cell_type": "code",
      "source": [
        "con=pymysql.connect(host='mysql-pyprojects-python-apps.b.aivencloud.com',port=18733,user='praffull',password='AVNS_rAHnLeXr31XIltE9DAh',database='sharayudb')\n",
        "print('connected to mysql cloud database successfully')"
      ],
      "metadata": {
        "colab": {
          "base_uri": "https://localhost:8080/"
        },
        "id": "artDoBdW_Cqn",
        "outputId": "4b10e20b-aa46-43a2-b00f-432b57fb9068"
      },
      "execution_count": null,
      "outputs": [
        {
          "output_type": "stream",
          "name": "stdout",
          "text": [
            "connected to mysql cloud database successfully\n"
          ]
        }
      ]
    },
    {
      "cell_type": "code",
      "source": [
        "curs=con.cursor()"
      ],
      "metadata": {
        "id": "LdWzZQCS_HVs"
      },
      "execution_count": null,
      "outputs": []
    },
    {
      "cell_type": "code",
      "source": [
        "rno=int(input(\"Enter student's registration number : \"))\n",
        "newcourse=input('Enter new course name : ')\n",
        "cnt=curs.execute(f\"update students set course='{newcourse}' where regno={rno}\")\n",
        "con.commit()\n",
        "if cnt==1:\n",
        "  print('course modified')\n",
        "else:\n",
        "  print('registration number not found')"
      ],
      "metadata": {
        "colab": {
          "base_uri": "https://localhost:8080/"
        },
        "id": "eMAxnBYR_MrY",
        "outputId": "9261d029-c7f1-4076-cb08-9675295371db"
      },
      "execution_count": null,
      "outputs": [
        {
          "output_type": "stream",
          "name": "stdout",
          "text": [
            "Enter student's registration number : 114\n",
            "Enter new course name : java spring boot\n",
            "course modified\n"
          ]
        }
      ]
    },
    {
      "cell_type": "code",
      "source": [
        "eno=int(input('Enter employee number : '))\n",
        "newsal=float(input('Enter new salary : '))\n",
        "cnt=curs.execute(f\"update employees set salary={newsal} where empno={eno}\")\n",
        "con.commit()\n",
        "if cnt>0:\n",
        "  print('salary updated')\n",
        "else:\n",
        "  print('salary update failed')"
      ],
      "metadata": {
        "colab": {
          "base_uri": "https://localhost:8080/"
        },
        "id": "KPhXxKNYByYZ",
        "outputId": "853d3f71-f1a5-4abb-e096-88852a4a0c9a"
      },
      "execution_count": null,
      "outputs": [
        {
          "output_type": "stream",
          "name": "stdout",
          "text": [
            "Enter employee number : 101\n",
            "Enter new salary : 41000\n",
            "salary updated\n"
          ]
        }
      ]
    },
    {
      "cell_type": "code",
      "source": [
        "# deposit amount to an account\n",
        "ano=int(input('Enter account number : '))\n",
        "amt=float(input('Enter deposit amount : '))\n",
        "cnt=curs.execute(f\"update accounts set balance=balance+{amt} where accno={ano}\")\n",
        "con.commit()\n",
        "if cnt==1:\n",
        "  print('amount deposited...')\n",
        "else:\n",
        "  print('account does not exist')"
      ],
      "metadata": {
        "colab": {
          "base_uri": "https://localhost:8080/"
        },
        "id": "rCgAhoegGQg_",
        "outputId": "b8ef97ad-0104-4c78-83c4-656bd1d0f6b6"
      },
      "execution_count": null,
      "outputs": [
        {
          "output_type": "stream",
          "name": "stdout",
          "text": [
            "Enter account number : 1002\n",
            "Enter deposit amount : 5000\n",
            "amount deposited...\n"
          ]
        }
      ]
    },
    {
      "cell_type": "code",
      "source": [
        "# Withdraw amount from an account\n",
        "ano=int(input('Enter account number : '))\n",
        "amt=float(input('Enter withdraw amount : '))\n",
        "try:\n",
        "  cnt=curs.execute(f\"update accounts set balance=balance-{amt} where accno={ano}\")\n",
        "  con.commit()\n",
        "  if cnt==1:\n",
        "    print('amount withdrawn...')\n",
        "  else:\n",
        "    print('account does not exist')\n",
        "except:\n",
        "  print('you dont have enough balance for withdraw')"
      ],
      "metadata": {
        "colab": {
          "base_uri": "https://localhost:8080/"
        },
        "id": "KnDHzwjAItXV",
        "outputId": "384134d5-f0f7-4c4a-e4f7-fb4aff493a4a"
      },
      "execution_count": null,
      "outputs": [
        {
          "output_type": "stream",
          "name": "stdout",
          "text": [
            "Enter account number : 1051\n",
            "Enter withdraw amount : 45000\n",
            "you dont have enough balance for withdraw\n"
          ]
        }
      ]
    },
    {
      "cell_type": "code",
      "source": [
        "fromano=int(input('Enter from account number : '))\n",
        "toano=int(input('Enter from account number : '))\n",
        "amt=float(input('Enter transfer amount : '))\n",
        "try:\n",
        "  curs.execute(f\"update accounts set balance=balance-{amt} where accno={fromano}\")\n",
        "  curs.execute(f\"update accounts set balance=balance+{amt} where accno={toano}\")\n",
        "  curs.execute(f\"insert into transferlog(fromaccount,toaccount,amount,transdate) values({fromano},{toano},{amt},now())\")\n",
        "  con.commit()\n",
        "  print('transfer successful')\n",
        "except:\n",
        "  print('transfer failed')"
      ],
      "metadata": {
        "colab": {
          "base_uri": "https://localhost:8080/"
        },
        "id": "OS4u5mItL7Qn",
        "outputId": "7177e8be-2fc8-4d2f-a436-0baafdba35d5"
      },
      "execution_count": null,
      "outputs": [
        {
          "output_type": "stream",
          "name": "stdout",
          "text": [
            "Enter from account number : 1050\n",
            "Enter from account number : 1045\n",
            "Enter transfer amount : 1700\n",
            "transfer successful\n"
          ]
        }
      ]
    },
    {
      "cell_type": "code",
      "source": [
        "con.close()"
      ],
      "metadata": {
        "id": "N6s_aRrVPIpf"
      },
      "execution_count": null,
      "outputs": []
    }
  ]
}