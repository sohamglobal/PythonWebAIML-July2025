{
  "nbformat": 4,
  "nbformat_minor": 0,
  "metadata": {
    "colab": {
      "provenance": []
    },
    "kernelspec": {
      "name": "python3",
      "display_name": "Python 3"
    },
    "language_info": {
      "name": "python"
    }
  },
  "cells": [
    {
      "cell_type": "code",
      "execution_count": 1,
      "metadata": {
        "colab": {
          "base_uri": "https://localhost:8080/"
        },
        "id": "Kqm521Hz-1J9",
        "outputId": "59a2c3d9-2705-4f50-9e3d-0ab4bb1d0da1"
      },
      "outputs": [
        {
          "output_type": "stream",
          "name": "stdout",
          "text": [
            "Collecting pymysql\n",
            "  Downloading pymysql-1.1.2-py3-none-any.whl.metadata (4.3 kB)\n",
            "Downloading pymysql-1.1.2-py3-none-any.whl (45 kB)\n",
            "\u001b[2K   \u001b[90m━━━━━━━━━━━━━━━━━━━━━━━━━━━━━━━━━━━━━━━━\u001b[0m \u001b[32m45.3/45.3 kB\u001b[0m \u001b[31m1.2 MB/s\u001b[0m eta \u001b[36m0:00:00\u001b[0m\n",
            "\u001b[?25hInstalling collected packages: pymysql\n",
            "Successfully installed pymysql-1.1.2\n"
          ]
        }
      ],
      "source": [
        "pip install pymysql"
      ]
    },
    {
      "cell_type": "code",
      "source": [
        "import pymysql"
      ],
      "metadata": {
        "id": "vfU-_dny-_Te"
      },
      "execution_count": 2,
      "outputs": []
    },
    {
      "cell_type": "code",
      "source": [
        "con=pymysql.connect(host='mysql-pyprojects-python-apps.b.aivencloud.com',port=18733,user='praffull',password='AVNS_rAHnLeXr31XIltE9DAh',database='sharayudb')\n",
        "print('connected to mysql cloud database successfully')"
      ],
      "metadata": {
        "colab": {
          "base_uri": "https://localhost:8080/"
        },
        "id": "artDoBdW_Cqn",
        "outputId": "df288ea4-8602-4250-d263-b4995bc7b386"
      },
      "execution_count": 3,
      "outputs": [
        {
          "output_type": "stream",
          "name": "stdout",
          "text": [
            "connected to mysql cloud database successfully\n"
          ]
        }
      ]
    },
    {
      "cell_type": "code",
      "source": [
        "curs=con.cursor()"
      ],
      "metadata": {
        "id": "LdWzZQCS_HVs"
      },
      "execution_count": 4,
      "outputs": []
    },
    {
      "cell_type": "code",
      "source": [
        "rno=int(input(\"Enter student's registration number : \"))\n",
        "newcourse=input('Enter new course name : ')\n",
        "cnt=curs.execute(f\"update students set course='{newcourse}' where regno={rno}\")\n",
        "con.commit()\n",
        "if cnt==1:\n",
        "  print('course modified')\n",
        "else:\n",
        "  print('registration number not found')"
      ],
      "metadata": {
        "colab": {
          "base_uri": "https://localhost:8080/"
        },
        "id": "eMAxnBYR_MrY",
        "outputId": "dda573ee-86f0-4565-a526-e9c8b2950d0b"
      },
      "execution_count": 8,
      "outputs": [
        {
          "output_type": "stream",
          "name": "stdout",
          "text": [
            "Enter student's registration number : 543\n",
            "Enter new course name : rest api\n",
            "registration number not found\n"
          ]
        }
      ]
    },
    {
      "cell_type": "code",
      "source": [
        "eno=int(input('Enter employee number : '))\n",
        "newsal=float(input('Enter new salary : '))\n",
        "cnt=curs.execute(f\"update employees set salary={newsal} where empno={eno}\")\n",
        "con.commit()\n",
        "if cnt>0:\n",
        "  print('salary updated')\n",
        "else:\n",
        "  print('salary update failed')"
      ],
      "metadata": {
        "colab": {
          "base_uri": "https://localhost:8080/"
        },
        "id": "KPhXxKNYByYZ",
        "outputId": "bbfb5a93-95ec-4ab9-eeb5-da59d0978b88"
      },
      "execution_count": 10,
      "outputs": [
        {
          "output_type": "stream",
          "name": "stdout",
          "text": [
            "Enter employee number : 111\n",
            "Enter new salary : 45000\n",
            "salary update failed\n"
          ]
        }
      ]
    },
    {
      "cell_type": "code",
      "source": [
        "con.close()"
      ],
      "metadata": {
        "id": "T0XQLZ3dCguz"
      },
      "execution_count": 11,
      "outputs": []
    }
  ]
}