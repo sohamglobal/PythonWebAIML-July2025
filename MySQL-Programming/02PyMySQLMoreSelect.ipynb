{
  "nbformat": 4,
  "nbformat_minor": 0,
  "metadata": {
    "colab": {
      "provenance": []
    },
    "kernelspec": {
      "name": "python3",
      "display_name": "Python 3"
    },
    "language_info": {
      "name": "python"
    }
  },
  "cells": [
    {
      "cell_type": "code",
      "execution_count": 1,
      "metadata": {
        "colab": {
          "base_uri": "https://localhost:8080/"
        },
        "id": "bxOpmjoBiCKE",
        "outputId": "14a150c5-1864-48f1-d1eb-4fa7f39bbaa9"
      },
      "outputs": [
        {
          "output_type": "stream",
          "name": "stdout",
          "text": [
            "Collecting pymysql\n",
            "  Downloading pymysql-1.1.2-py3-none-any.whl.metadata (4.3 kB)\n",
            "Downloading pymysql-1.1.2-py3-none-any.whl (45 kB)\n",
            "\u001b[?25l   \u001b[90m━━━━━━━━━━━━━━━━━━━━━━━━━━━━━━━━━━━━━━━━\u001b[0m \u001b[32m0.0/45.3 kB\u001b[0m \u001b[31m?\u001b[0m eta \u001b[36m-:--:--\u001b[0m\r\u001b[2K   \u001b[90m━━━━━━━━━━━━━━━━━━━━━━━━━━━━━━━━━━━━━━━━\u001b[0m \u001b[32m45.3/45.3 kB\u001b[0m \u001b[31m3.5 MB/s\u001b[0m eta \u001b[36m0:00:00\u001b[0m\n",
            "\u001b[?25hInstalling collected packages: pymysql\n",
            "Successfully installed pymysql-1.1.2\n"
          ]
        }
      ],
      "source": [
        "pip install pymysql"
      ]
    },
    {
      "cell_type": "code",
      "source": [
        "import pymysql"
      ],
      "metadata": {
        "id": "kHRPI-0Vi7nW"
      },
      "execution_count": 2,
      "outputs": []
    },
    {
      "cell_type": "code",
      "source": [
        "con=pymysql.connect(host='mysql-pyprojects-python-apps.b.aivencloud.com',port=18733,user='praffull',password='AVNS_rAHnLeXr31XIltE9DAh',database='sharayudb')\n",
        "print('connected to mysql cloud database successfully')"
      ],
      "metadata": {
        "colab": {
          "base_uri": "https://localhost:8080/"
        },
        "id": "TIxpWP4Oi_Yw",
        "outputId": "feec2492-5829-4a22-c54b-3a424b3edc6f"
      },
      "execution_count": 5,
      "outputs": [
        {
          "output_type": "stream",
          "name": "stdout",
          "text": [
            "connected to mysql cloud database successfully\n"
          ]
        }
      ]
    },
    {
      "cell_type": "code",
      "source": [
        "curs=con.cursor()"
      ],
      "metadata": {
        "id": "4adenpVhkhAE"
      },
      "execution_count": 6,
      "outputs": []
    },
    {
      "cell_type": "code",
      "source": [
        "curs.execute(\"select * from students\")\n",
        "data=curs.fetchall()\n",
        "print(data)\n",
        "#tuple of tuples"
      ],
      "metadata": {
        "colab": {
          "base_uri": "https://localhost:8080/"
        },
        "id": "6X5qh5Hck7-a",
        "outputId": "709004ca-b214-46e5-e234-87c337691383"
      },
      "execution_count": 7,
      "outputs": [
        {
          "output_type": "stream",
          "name": "stdout",
          "text": [
            "((121, 'tom cruise', 'generative ai'), (122, 'keanu reeves', 'core python'), (127, 'amir khan', 'mongodb atlas'))\n"
          ]
        }
      ]
    },
    {
      "cell_type": "code",
      "source": [
        "for st in data:\n",
        "  print(st)"
      ],
      "metadata": {
        "colab": {
          "base_uri": "https://localhost:8080/"
        },
        "id": "TRfYRDqdmA6I",
        "outputId": "a4b7b77a-b230-4388-ebfd-cc845965787e"
      },
      "execution_count": 8,
      "outputs": [
        {
          "output_type": "stream",
          "name": "stdout",
          "text": [
            "(121, 'tom cruise', 'generative ai')\n",
            "(122, 'keanu reeves', 'core python')\n",
            "(127, 'amir khan', 'mongodb atlas')\n"
          ]
        }
      ]
    },
    {
      "cell_type": "code",
      "source": [
        "for st in data:\n",
        "  print(st[1])"
      ],
      "metadata": {
        "colab": {
          "base_uri": "https://localhost:8080/"
        },
        "id": "7sqyXBB0mL21",
        "outputId": "523c1d8e-3fdb-41df-91c6-0592625bd231"
      },
      "execution_count": 9,
      "outputs": [
        {
          "output_type": "stream",
          "name": "stdout",
          "text": [
            "tom cruise\n",
            "keanu reeves\n",
            "amir khan\n"
          ]
        }
      ]
    },
    {
      "cell_type": "code",
      "source": [
        "curs.execute(\"select * from accounts\")"
      ],
      "metadata": {
        "colab": {
          "base_uri": "https://localhost:8080/"
        },
        "id": "gfybrbFMmt7P",
        "outputId": "1e30e895-d267-4f66-86c0-8342a31eb7fc"
      },
      "execution_count": 66,
      "outputs": [
        {
          "output_type": "execute_result",
          "data": {
            "text/plain": [
              "50"
            ]
          },
          "metadata": {},
          "execution_count": 66
        }
      ]
    },
    {
      "cell_type": "code",
      "source": [
        "data=curs.fetchone()\n",
        "print(data)"
      ],
      "metadata": {
        "colab": {
          "base_uri": "https://localhost:8080/"
        },
        "id": "_bdOM2r_nfZA",
        "outputId": "a4efe061-d374-4db8-9e64-9721f1554a02"
      },
      "execution_count": 67,
      "outputs": [
        {
          "output_type": "stream",
          "name": "stdout",
          "text": [
            "(1001, 'Joe Root', 'saving', 113000.0)\n"
          ]
        }
      ]
    },
    {
      "cell_type": "code",
      "source": [
        "curs.execute(\"select * from accounts\")\n"
      ],
      "metadata": {
        "colab": {
          "base_uri": "https://localhost:8080/"
        },
        "id": "nd5UdhMJpCeE",
        "outputId": "9150227f-88a8-4cf4-9147-32a062fc29f1"
      },
      "execution_count": 68,
      "outputs": [
        {
          "output_type": "execute_result",
          "data": {
            "text/plain": [
              "50"
            ]
          },
          "metadata": {},
          "execution_count": 68
        }
      ]
    },
    {
      "cell_type": "code",
      "source": [
        "data=curs.fetchmany(3)\n",
        "print(data)"
      ],
      "metadata": {
        "colab": {
          "base_uri": "https://localhost:8080/"
        },
        "id": "0FjEGpkzpSoy",
        "outputId": "895bb0f3-c67e-430b-b8d1-20325ff3b96d"
      },
      "execution_count": 72,
      "outputs": [
        {
          "output_type": "stream",
          "name": "stdout",
          "text": [
            "((1010, 'Jack Grealish', 'current', 80100.0), (1011, 'Chris Woakes', 'ppf', 97300.0), (1012, 'Declan Rice', 'fixed', 58800.0))\n"
          ]
        }
      ]
    }
  ]
}