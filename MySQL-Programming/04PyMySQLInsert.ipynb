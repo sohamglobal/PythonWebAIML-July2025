{
  "nbformat": 4,
  "nbformat_minor": 0,
  "metadata": {
    "colab": {
      "provenance": []
    },
    "kernelspec": {
      "name": "python3",
      "display_name": "Python 3"
    },
    "language_info": {
      "name": "python"
    }
  },
  "cells": [
    {
      "cell_type": "code",
      "source": [
        "pip install pymysql"
      ],
      "metadata": {
        "id": "Jb8tgRaZrDHV",
        "colab": {
          "base_uri": "https://localhost:8080/"
        },
        "outputId": "4a25bb1a-43c6-4fd4-d418-4b1ec3394159"
      },
      "execution_count": 1,
      "outputs": [
        {
          "output_type": "stream",
          "name": "stdout",
          "text": [
            "Collecting pymysql\n",
            "  Downloading pymysql-1.1.2-py3-none-any.whl.metadata (4.3 kB)\n",
            "Downloading pymysql-1.1.2-py3-none-any.whl (45 kB)\n",
            "\u001b[?25l   \u001b[90m━━━━━━━━━━━━━━━━━━━━━━━━━━━━━━━━━━━━━━━━\u001b[0m \u001b[32m0.0/45.3 kB\u001b[0m \u001b[31m?\u001b[0m eta \u001b[36m-:--:--\u001b[0m\r\u001b[2K   \u001b[90m━━━━━━━━━━━━━━━━━━━━━━━━━━━━━━━━━━━━━━━━\u001b[0m \u001b[32m45.3/45.3 kB\u001b[0m \u001b[31m2.3 MB/s\u001b[0m eta \u001b[36m0:00:00\u001b[0m\n",
            "\u001b[?25hInstalling collected packages: pymysql\n",
            "Successfully installed pymysql-1.1.2\n"
          ]
        }
      ]
    },
    {
      "cell_type": "code",
      "source": [
        "import pymysql"
      ],
      "metadata": {
        "id": "_N3y-quQuh3Z"
      },
      "execution_count": 2,
      "outputs": []
    },
    {
      "cell_type": "code",
      "source": [
        "con=pymysql.connect(host='mysql-pyprojects-python-apps.b.aivencloud.com',port=18733,user='praffull',password='AVNS_rAHnLeXr31XIltE9DAh',database='sharayudb')\n",
        "print('connected to mysql cloud database successfully')"
      ],
      "metadata": {
        "colab": {
          "base_uri": "https://localhost:8080/"
        },
        "id": "N5lYHeynukeq",
        "outputId": "f6621cf8-6055-47bc-b86d-b1116ab92584"
      },
      "execution_count": 3,
      "outputs": [
        {
          "output_type": "stream",
          "name": "stdout",
          "text": [
            "connected to mysql cloud database successfully\n"
          ]
        }
      ]
    },
    {
      "cell_type": "code",
      "execution_count": null,
      "metadata": {
        "colab": {
          "base_uri": "https://localhost:8080/"
        },
        "id": "xM_fPQN1qfvV",
        "outputId": "375ee81e-b173-423a-ba2d-826142fd4abf"
      },
      "outputs": [
        {
          "name": "stdout",
          "output_type": "stream",
          "text": [
            "Enter registration Number : 124\n",
            "Enter name : soham\n",
            "Enter course : agentic ai\n"
          ]
        }
      ],
      "source": [
        "rno=int(input('Enter registration Number : '))\n",
        "snm=input('Enter name : ')\n",
        "cou=input('Enter course : ')"
      ]
    },
    {
      "cell_type": "code",
      "source": [
        "curs=con.cursor()"
      ],
      "metadata": {
        "id": "mFBLPTKkvBeI"
      },
      "execution_count": 5,
      "outputs": []
    },
    {
      "cell_type": "code",
      "source": [
        "curs.execute(f\"insert into students values({rno},'{snm}','{cou}')\")\n",
        "con.commit()\n",
        "print('student data inserted successfully')"
      ],
      "metadata": {
        "colab": {
          "base_uri": "https://localhost:8080/"
        },
        "id": "QgDC1e4kvGB0",
        "outputId": "e90fe090-2074-4bff-f4eb-5e561e9080a1"
      },
      "execution_count": null,
      "outputs": [
        {
          "output_type": "stream",
          "name": "stdout",
          "text": [
            "student data inserted successfully\n"
          ]
        }
      ]
    },
    {
      "cell_type": "code",
      "source": [
        "no=int(input('Enter account number : '))\n",
        "nm=input('Enter account name : ')\n",
        "ty=input('Enter account type : ')\n",
        "bl=float(input('Enter balance : '))"
      ],
      "metadata": {
        "colab": {
          "base_uri": "https://localhost:8080/"
        },
        "id": "ZnGaTc0EwvU8",
        "outputId": "1de7c644-0185-47b0-ff8e-e7787e352045"
      },
      "execution_count": null,
      "outputs": [
        {
          "name": "stdout",
          "output_type": "stream",
          "text": [
            "Enter account number : 1051\n",
            "Enter account name : Sharayu\n",
            "Enter account type : fixed\n",
            "Enter balance : 35760\n"
          ]
        }
      ]
    },
    {
      "cell_type": "code",
      "source": [
        "curs=con.cursor()"
      ],
      "metadata": {
        "id": "Lo7jqlRwyuip"
      },
      "execution_count": null,
      "outputs": []
    },
    {
      "cell_type": "code",
      "source": [
        "curs.execute(f\"insert into accounts values({no},'{nm}','{ty}',{bl})\")\n",
        "con.commit()\n",
        "print('new account opened in the DB')"
      ],
      "metadata": {
        "colab": {
          "base_uri": "https://localhost:8080/"
        },
        "id": "jfIGiocsyyLG",
        "outputId": "bc3a2a48-a4eb-43a1-dc1e-2c939b66e698"
      },
      "execution_count": null,
      "outputs": [
        {
          "output_type": "stream",
          "name": "stdout",
          "text": [
            "new account opened in the DB\n"
          ]
        }
      ]
    },
    {
      "cell_type": "code",
      "source": [
        "no=int(input('Enter employee number : '))\n",
        "nm=input('Enter employee name : ')\n",
        "dp=input('Enter department : ')\n",
        "po=input('Enter post : ')\n",
        "lo=input('Enter work location : ')\n",
        "sl=float(input('Enter salary : '))"
      ],
      "metadata": {
        "colab": {
          "base_uri": "https://localhost:8080/"
        },
        "id": "66NKyUStzuP3",
        "outputId": "726cea2e-2e37-42d6-8e3d-6fad3c9487f8"
      },
      "execution_count": 4,
      "outputs": [
        {
          "name": "stdout",
          "output_type": "stream",
          "text": [
            "Enter employee number : 103\n",
            "Enter employee name : megha\n",
            "Enter department : projects\n",
            "Enter post : coordinator\n",
            "Enter work location : tokyo\n",
            "Enter salary : 52100\n"
          ]
        }
      ]
    },
    {
      "cell_type": "code",
      "source": [
        "curs.execute(f\"insert into employees values({no},'{nm}','{dp}','{po}','{lo}',{sl})\")\n",
        "con.commit()\n",
        "print('new employee added to DB')"
      ],
      "metadata": {
        "colab": {
          "base_uri": "https://localhost:8080/"
        },
        "id": "OChj3Zgw1CUU",
        "outputId": "60435ac3-11a1-4952-d161-ea068b63ec11"
      },
      "execution_count": 6,
      "outputs": [
        {
          "output_type": "stream",
          "name": "stdout",
          "text": [
            "new employee added to DB\n"
          ]
        }
      ]
    },
    {
      "cell_type": "code",
      "source": [
        "con.close()"
      ],
      "metadata": {
        "id": "aj3QbXja2PfF"
      },
      "execution_count": 7,
      "outputs": []
    }
  ]
}