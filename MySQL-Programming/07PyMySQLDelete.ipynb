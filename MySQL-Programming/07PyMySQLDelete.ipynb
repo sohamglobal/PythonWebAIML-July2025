{
  "nbformat": 4,
  "nbformat_minor": 0,
  "metadata": {
    "colab": {
      "provenance": []
    },
    "kernelspec": {
      "name": "python3",
      "display_name": "Python 3"
    },
    "language_info": {
      "name": "python"
    }
  },
  "cells": [
    {
      "cell_type": "code",
      "execution_count": 1,
      "metadata": {
        "colab": {
          "base_uri": "https://localhost:8080/"
        },
        "id": "v6Y-17WHCvDM",
        "outputId": "49f5e1e5-3705-4502-c340-f06bdcc563c0"
      },
      "outputs": [
        {
          "output_type": "stream",
          "name": "stdout",
          "text": [
            "Collecting pymysql\n",
            "  Downloading pymysql-1.1.2-py3-none-any.whl.metadata (4.3 kB)\n",
            "Downloading pymysql-1.1.2-py3-none-any.whl (45 kB)\n",
            "\u001b[?25l   \u001b[90m━━━━━━━━━━━━━━━━━━━━━━━━━━━━━━━━━━━━━━━━\u001b[0m \u001b[32m0.0/45.3 kB\u001b[0m \u001b[31m?\u001b[0m eta \u001b[36m-:--:--\u001b[0m\r\u001b[2K   \u001b[90m━━━━━━━━━━━━━━━━━━━━━━━━━━━━━━━━━━━━━━━━\u001b[0m \u001b[32m45.3/45.3 kB\u001b[0m \u001b[31m2.1 MB/s\u001b[0m eta \u001b[36m0:00:00\u001b[0m\n",
            "\u001b[?25hInstalling collected packages: pymysql\n",
            "Successfully installed pymysql-1.1.2\n"
          ]
        }
      ],
      "source": [
        "pip install pymysql"
      ]
    },
    {
      "cell_type": "code",
      "source": [
        "import pymysql"
      ],
      "metadata": {
        "id": "KczsTPcCC3RT"
      },
      "execution_count": 2,
      "outputs": []
    },
    {
      "cell_type": "code",
      "source": [
        "con=pymysql.connect(host='mysql-pyprojects-python-apps.b.aivencloud.com',port=18733,user='praffull',password='AVNS_rAHnLeXr31XIltE9DAh',database='sharayudb')\n",
        "print('connected to mysql cloud database successfully')"
      ],
      "metadata": {
        "colab": {
          "base_uri": "https://localhost:8080/"
        },
        "id": "xEtmJAC7C5qy",
        "outputId": "85202805-157e-48c7-dacb-f55a7622be88"
      },
      "execution_count": 3,
      "outputs": [
        {
          "output_type": "stream",
          "name": "stdout",
          "text": [
            "connected to mysql cloud database successfully\n"
          ]
        }
      ]
    },
    {
      "cell_type": "code",
      "source": [
        "curs=con.cursor()"
      ],
      "metadata": {
        "id": "_b2SRqhuC9pH"
      },
      "execution_count": 4,
      "outputs": []
    },
    {
      "cell_type": "code",
      "source": [
        "rno=int(input('Enter registration number to delete : '))\n",
        "cnt=curs.execute(f\"delete from students where regno={rno}\")\n",
        "con.commit()\n",
        "if cnt==1:\n",
        "  print('student deleted')\n",
        "else:\n",
        "  print('deletion failed')"
      ],
      "metadata": {
        "colab": {
          "base_uri": "https://localhost:8080/"
        },
        "id": "SKK_XLeHDJWY",
        "outputId": "9797bc07-4d2c-4d35-bc1f-b5e425e291ce"
      },
      "execution_count": null,
      "outputs": [
        {
          "output_type": "stream",
          "name": "stdout",
          "text": [
            "Enter registration number to delete : 124\n",
            "deletion failed\n"
          ]
        }
      ]
    },
    {
      "cell_type": "code",
      "source": [
        "ano=int(input('Enter account number to delete : '))\n",
        "curs.execute(f\"select * from accounts where accno={ano}\")\n",
        "data=curs.fetchone()\n",
        "if data:\n",
        "  print(data)\n",
        "  choice=input(\"do you really want to delete this account (yes/no) : \")\n",
        "  if choice=='yes':\n",
        "    cnt=curs.execute(f\"delete from accounts where accno={ano}\")\n",
        "    con.commit()\n",
        "    print('account deleted')\n",
        "  else:\n",
        "    print('delete cancelled by the user')\n",
        "else:\n",
        "  print('account does not exist')\n",
        ""
      ],
      "metadata": {
        "colab": {
          "base_uri": "https://localhost:8080/"
        },
        "id": "g8GZtTvZPx6f",
        "outputId": "4f074498-5b52-4b07-a7ba-3b257d1f16f7"
      },
      "execution_count": 7,
      "outputs": [
        {
          "output_type": "stream",
          "name": "stdout",
          "text": [
            "Enter account number to delete : 1001\n",
            "(1001, 'Joe Root', 'saving', 110500.0)\n",
            "do you really want to delete this account (yes/no) : no\n",
            "delete cancelled by the user\n"
          ]
        }
      ]
    },
    {
      "cell_type": "code",
      "source": [
        "con.close()"
      ],
      "metadata": {
        "id": "kEDZKCanRSZ6"
      },
      "execution_count": 8,
      "outputs": []
    }
  ]
}