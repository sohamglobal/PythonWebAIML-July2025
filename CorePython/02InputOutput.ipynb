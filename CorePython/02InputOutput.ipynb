{
  "nbformat": 4,
  "nbformat_minor": 0,
  "metadata": {
    "colab": {
      "provenance": []
    },
    "kernelspec": {
      "name": "python3",
      "display_name": "Python 3"
    },
    "language_info": {
      "name": "python"
    }
  },
  "cells": [
    {
      "cell_type": "markdown",
      "source": [
        "**python input output examples**"
      ],
      "metadata": {
        "id": "qVD5nNHiiSu9"
      }
    },
    {
      "cell_type": "code",
      "execution_count": 3,
      "metadata": {
        "colab": {
          "base_uri": "https://localhost:8080/"
        },
        "id": "Cwn0lYamhjTC",
        "outputId": "932e1eb9-4165-491b-f2aa-9985bbba6bb9"
      },
      "outputs": [
        {
          "output_type": "stream",
          "name": "stdout",
          "text": [
            "Enter your name : aditi\n",
            "welcome aditi to SohamGlobal\n"
          ]
        }
      ],
      "source": [
        "nm=input('Enter your name : ')\n",
        "print(f'welcome {nm} to SohamGlobal')"
      ]
    },
    {
      "cell_type": "code",
      "source": [
        "nm=input('Enter name : ')\n",
        "ct=input('Enter city : ')\n",
        "print(f'thanks {nm} for joining from {ct}')"
      ],
      "metadata": {
        "colab": {
          "base_uri": "https://localhost:8080/"
        },
        "id": "6LhxRzCCkKU3",
        "outputId": "43d88888-bedb-4f23-85c3-efa166acad73"
      },
      "execution_count": 5,
      "outputs": [
        {
          "output_type": "stream",
          "name": "stdout",
          "text": [
            "Enter name : praffull\n",
            "Enter city : london\n",
            "thanks praffull for joining from london\n"
          ]
        }
      ]
    },
    {
      "cell_type": "markdown",
      "source": [
        "Every input in python is considered as a string by default"
      ],
      "metadata": {
        "id": "weDjbSGumnFN"
      }
    },
    {
      "cell_type": "code",
      "source": [
        "n=input('Enter a number : ')\n",
        "print(n)\n",
        "print(type(n))"
      ],
      "metadata": {
        "colab": {
          "base_uri": "https://localhost:8080/"
        },
        "id": "VxAtVSSdlAq9",
        "outputId": "00e3fa39-56b7-4825-b3cd-0bf82e8110aa"
      },
      "execution_count": 11,
      "outputs": [
        {
          "output_type": "stream",
          "name": "stdout",
          "text": [
            "Enter a number : 75\n",
            "75\n",
            "<class 'str'>\n"
          ]
        }
      ]
    },
    {
      "cell_type": "code",
      "source": [
        "n=int(input('Enter a number : '))\n",
        "print(n)\n",
        "print(type(n))"
      ],
      "metadata": {
        "colab": {
          "base_uri": "https://localhost:8080/"
        },
        "id": "RC7hRmRkm8lF",
        "outputId": "3d4f3cfe-fdb3-46e3-9cf3-4017a231b735"
      },
      "execution_count": 12,
      "outputs": [
        {
          "output_type": "stream",
          "name": "stdout",
          "text": [
            "Enter a number : 75\n",
            "75\n",
            "<class 'int'>\n"
          ]
        }
      ]
    },
    {
      "cell_type": "code",
      "source": [
        "a=int(input('Enter first number : '))\n",
        "b=int(input('Enter second number : '))\n",
        "c=a+b\n",
        "print(f'sum is {c}')"
      ],
      "metadata": {
        "colab": {
          "base_uri": "https://localhost:8080/"
        },
        "id": "8E1gcOwEnQpu",
        "outputId": "9821a297-d79e-44b9-d8e9-89de05b601a6"
      },
      "execution_count": 14,
      "outputs": [
        {
          "output_type": "stream",
          "name": "stdout",
          "text": [
            "Enter first number : 23\n",
            "Enter second number : 69\n",
            "sum is 92\n"
          ]
        }
      ]
    },
    {
      "cell_type": "code",
      "source": [
        "a=float(input('Enter first number : '))\n",
        "b=float(input('Enter second number : '))\n",
        "c=a+b\n",
        "print(f'sum is {c}')"
      ],
      "metadata": {
        "colab": {
          "base_uri": "https://localhost:8080/"
        },
        "id": "rpzXUJ8aoYh8",
        "outputId": "c2262db2-9a6c-4a0f-e6ef-9e3370a6fe77"
      },
      "execution_count": 15,
      "outputs": [
        {
          "output_type": "stream",
          "name": "stdout",
          "text": [
            "Enter first number : 36.92\n",
            "Enter second number : 25.77\n",
            "sum is 62.69\n"
          ]
        }
      ]
    },
    {
      "cell_type": "code",
      "source": [
        "custnm=input('Enter customer name : ')\n",
        "amount=float(input('Enter amount : '))\n",
        "disc=amount*10/100\n",
        "print(f'Discount is {disc}')\n",
        "bill=amount-disc\n",
        "print(f'{custnm} your net bill is {bill}')"
      ],
      "metadata": {
        "colab": {
          "base_uri": "https://localhost:8080/"
        },
        "id": "Y79gHg28otUb",
        "outputId": "0fdf0d07-2261-4cfe-de76-b016b5f6a03b"
      },
      "execution_count": 18,
      "outputs": [
        {
          "output_type": "stream",
          "name": "stdout",
          "text": [
            "Enter customer name : pat cummins\n",
            "Enter amount : 6730\n",
            "Discount is 673.0\n",
            "pat cummins your net bill is 6057.0\n"
          ]
        }
      ]
    },
    {
      "cell_type": "code",
      "source": [
        "n=int(input('Enter a number : '))\n",
        "sq=n**2\n",
        "print(f'square of {n} is {sq}')"
      ],
      "metadata": {
        "colab": {
          "base_uri": "https://localhost:8080/"
        },
        "id": "kRYiMfGCp0s2",
        "outputId": "971572c9-627e-479d-8040-d87924467449"
      },
      "execution_count": 23,
      "outputs": [
        {
          "output_type": "stream",
          "name": "stdout",
          "text": [
            "Enter a number : 57\n",
            "square of 57 is 3249\n"
          ]
        }
      ]
    },
    {
      "cell_type": "code",
      "source": [
        "x=int(input('Enter first number : '))\n",
        "y=int(input('Enter second number : '))\n",
        "print(f'Addition : {x+y}')\n",
        "print(f'Subtraction : {x-y}')\n",
        "print(f'Multiplication : {x*y}')\n",
        "print(f'Division : {x/y}')"
      ],
      "metadata": {
        "colab": {
          "base_uri": "https://localhost:8080/"
        },
        "id": "kMhlVbOnra3x",
        "outputId": "f2df38b6-da7b-40ad-c830-67a928474892"
      },
      "execution_count": 25,
      "outputs": [
        {
          "output_type": "stream",
          "name": "stdout",
          "text": [
            "Enter first number : 23\n",
            "Enter second number : 12\n",
            "Addition : 35\n",
            "Subtraction : 11\n",
            "Multiplication : 276\n",
            "Division : 1.9166666666666667\n"
          ]
        }
      ]
    },
    {
      "cell_type": "code",
      "source": [
        "studnm=input('Enter student name : ')\n",
        "marks=int(input('Enter marks : '))\n",
        "print(f'Congrats {studnm} you are pass')"
      ],
      "metadata": {
        "colab": {
          "base_uri": "https://localhost:8080/"
        },
        "id": "DWosSg0Ysj-V",
        "outputId": "1b4034c6-91fd-48ac-a55d-eeb8fdbb5287"
      },
      "execution_count": 29,
      "outputs": [
        {
          "output_type": "stream",
          "name": "stdout",
          "text": [
            "Enter student name : sharayu\n",
            "Enter marks : 92\n",
            "Congrats sharayu you are fail\n"
          ]
        }
      ]
    }
  ]
}