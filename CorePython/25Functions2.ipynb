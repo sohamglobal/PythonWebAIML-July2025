{
  "nbformat": 4,
  "nbformat_minor": 0,
  "metadata": {
    "colab": {
      "provenance": []
    },
    "kernelspec": {
      "name": "python3",
      "display_name": "Python 3"
    },
    "language_info": {
      "name": "python"
    }
  },
  "cells": [
    {
      "cell_type": "markdown",
      "source": [
        "Function without parameters"
      ],
      "metadata": {
        "id": "VBg8QWPO1Bsq"
      }
    },
    {
      "cell_type": "code",
      "execution_count": 1,
      "metadata": {
        "id": "WkNdFemBzMjJ"
      },
      "outputs": [],
      "source": [
        "def welcome():\n",
        "  print('Welcome to SohamGlobal')\n",
        "  print('-'*35)"
      ]
    },
    {
      "cell_type": "code",
      "source": [
        "welcome()"
      ],
      "metadata": {
        "colab": {
          "base_uri": "https://localhost:8080/"
        },
        "id": "8sKxSxf71QPw",
        "outputId": "3fcf4e8b-b254-4a42-8e6f-27852a9ea3b7"
      },
      "execution_count": 2,
      "outputs": [
        {
          "output_type": "stream",
          "name": "stdout",
          "text": [
            "Welcome to SohamGlobal\n",
            "-----------------------------------\n"
          ]
        }
      ]
    },
    {
      "cell_type": "markdown",
      "source": [
        "Function with parameter"
      ],
      "metadata": {
        "id": "jCEhZkLs1bs6"
      }
    },
    {
      "cell_type": "code",
      "source": [
        "def thanks(nm):\n",
        "  print(f'thanks {nm} for joining us')"
      ],
      "metadata": {
        "id": "KOzvj9qR1eNx"
      },
      "execution_count": 3,
      "outputs": []
    },
    {
      "cell_type": "code",
      "source": [
        "thanks('praffull')\n",
        "thanks('sharayu')\n",
        "#thanks(12345)"
      ],
      "metadata": {
        "colab": {
          "base_uri": "https://localhost:8080/"
        },
        "id": "oYR_hign1zTK",
        "outputId": "5c4179fe-39a0-4cd0-80a4-4ff28b39eae9"
      },
      "execution_count": 9,
      "outputs": [
        {
          "output_type": "stream",
          "name": "stdout",
          "text": [
            "thanks praffull for joining us\n",
            "thanks sharayu for joining us\n"
          ]
        }
      ]
    },
    {
      "cell_type": "markdown",
      "source": [
        "Function with type hints"
      ],
      "metadata": {
        "id": "UD5G9_8I3fJ5"
      }
    },
    {
      "cell_type": "code",
      "source": [
        "def add(x: int,y: int):\n",
        "  res=x+y\n",
        "  print(f'sum of {x} and {y} is {res}')"
      ],
      "metadata": {
        "id": "TZoBt7_223Bt"
      },
      "execution_count": 13,
      "outputs": []
    },
    {
      "cell_type": "code",
      "source": [
        "add(12,23)\n",
        "add('soham','global')"
      ],
      "metadata": {
        "colab": {
          "base_uri": "https://localhost:8080/"
        },
        "id": "b7IXHRvL3FFT",
        "outputId": "e1413538-048d-48cc-cc47-8127a8e1dd27"
      },
      "execution_count": 14,
      "outputs": [
        {
          "output_type": "stream",
          "name": "stdout",
          "text": [
            "sum of 12 and 23 is 35\n",
            "sum of soham and global is sohamglobal\n"
          ]
        }
      ]
    },
    {
      "cell_type": "markdown",
      "source": [
        "Function with Return type"
      ],
      "metadata": {
        "id": "A5SfQaUl5ACk"
      }
    },
    {
      "cell_type": "code",
      "source": [
        "def calcsqr(n:int):\n",
        "  sq=n*n\n",
        "  #print(f'square of {n} is {sq}')\n",
        "  return sq"
      ],
      "metadata": {
        "id": "U--nTarH5Czh"
      },
      "execution_count": 17,
      "outputs": []
    },
    {
      "cell_type": "code",
      "source": [
        "s=calcsqr(12)\n",
        "print(f'square is {s}')\n",
        "\n",
        "if s%2==1:\n",
        "  print('result is odd')\n",
        "else:\n",
        "  print('result is even')"
      ],
      "metadata": {
        "colab": {
          "base_uri": "https://localhost:8080/"
        },
        "id": "kHHNNzGN5ZQB",
        "outputId": "70e51542-6021-4c5a-cc2f-0b60a0265792"
      },
      "execution_count": 22,
      "outputs": [
        {
          "output_type": "stream",
          "name": "stdout",
          "text": [
            "square is 144\n",
            "result is even\n"
          ]
        }
      ]
    },
    {
      "cell_type": "markdown",
      "source": [
        "Function with default parameter value"
      ],
      "metadata": {
        "id": "54YQe4B07JR4"
      }
    },
    {
      "cell_type": "code",
      "source": [
        "def greet(usernm='sharayu'):\n",
        "  print(f'Hi {usernm}, hope you are fine.')"
      ],
      "metadata": {
        "id": "2PUhDUHh7RmI"
      },
      "execution_count": 23,
      "outputs": []
    },
    {
      "cell_type": "code",
      "source": [
        "greet('pat cummins')\n",
        "greet('jos buttler')\n",
        "greet()"
      ],
      "metadata": {
        "colab": {
          "base_uri": "https://localhost:8080/"
        },
        "id": "VObK7k2y7g6I",
        "outputId": "851106b8-a341-44b1-943f-ff5500e6b244"
      },
      "execution_count": 26,
      "outputs": [
        {
          "output_type": "stream",
          "name": "stdout",
          "text": [
            "Hi pat cummins, hope you are fine.\n",
            "Hi jos buttler, hope you are fine.\n",
            "Hi sharayu, hope you are fine.\n"
          ]
        }
      ]
    },
    {
      "cell_type": "code",
      "source": [
        "def sayhello(nm,city='london'):\n",
        "  print(f'hello {nm} attending from {city}')"
      ],
      "metadata": {
        "id": "6U0Tp9H58CJE"
      },
      "execution_count": 27,
      "outputs": []
    },
    {
      "cell_type": "code",
      "source": [
        "sayhello('praffull')\n",
        "sayhello('shailaja','dubai')"
      ],
      "metadata": {
        "colab": {
          "base_uri": "https://localhost:8080/"
        },
        "id": "fe-XVS118Qle",
        "outputId": "32f667d0-cf95-4983-8b9c-c74ab09b392e"
      },
      "execution_count": 29,
      "outputs": [
        {
          "output_type": "stream",
          "name": "stdout",
          "text": [
            "hello praffull attending from london\n",
            "hello shailaja attending from dubai\n"
          ]
        }
      ]
    },
    {
      "cell_type": "markdown",
      "source": [
        "Function with variable arguments"
      ],
      "metadata": {
        "id": "fWuy_B-J9G-A"
      }
    },
    {
      "cell_type": "code",
      "source": [
        "def sum_all(*numbers):\n",
        "  print(type(numbers))\n",
        "  return sum(numbers)"
      ],
      "metadata": {
        "id": "4r1PraQp9Vc7"
      },
      "execution_count": 37,
      "outputs": []
    },
    {
      "cell_type": "code",
      "source": [
        "res=sum_all(23,45,56)\n",
        "print(f'sum is {res}')\n",
        "\n",
        "res=sum_all(5,1,7,11,4,9)\n",
        "print(f'sum is {res}')\n"
      ],
      "metadata": {
        "colab": {
          "base_uri": "https://localhost:8080/"
        },
        "id": "ZQ0t4F719hdB",
        "outputId": "7081d599-4024-48a2-8adb-82b81a325904"
      },
      "execution_count": 38,
      "outputs": [
        {
          "output_type": "stream",
          "name": "stdout",
          "text": [
            "<class 'tuple'>\n",
            "sum is 124\n",
            "<class 'tuple'>\n",
            "sum is 37\n"
          ]
        }
      ]
    },
    {
      "cell_type": "code",
      "source": [
        "def goodbye(*studnm):\n",
        "  for nm in studnm:\n",
        "    print(f'Good bye {nm}')"
      ],
      "metadata": {
        "id": "98h8eOdn-j7o"
      },
      "execution_count": 39,
      "outputs": []
    },
    {
      "cell_type": "code",
      "source": [
        "goodbye('aditi','praffull','soham','sharayu')"
      ],
      "metadata": {
        "colab": {
          "base_uri": "https://localhost:8080/"
        },
        "id": "B4shswE1-yuk",
        "outputId": "038ff462-ceb8-4350-e481-760af2c7c269"
      },
      "execution_count": 41,
      "outputs": [
        {
          "output_type": "stream",
          "name": "stdout",
          "text": [
            "Good bye aditi\n",
            "Good bye praffull\n",
            "Good bye soham\n",
            "Good bye sharayu\n"
          ]
        }
      ]
    },
    {
      "cell_type": "markdown",
      "source": [
        "**Function with multiple return values**"
      ],
      "metadata": {
        "id": "pGxo8tWG_KQ7"
      }
    },
    {
      "cell_type": "code",
      "source": [
        "def ops(x,y):\n",
        "  return x+y, x-y, x*y"
      ],
      "metadata": {
        "id": "TZfVPCFi_M45"
      },
      "execution_count": 42,
      "outputs": []
    },
    {
      "cell_type": "code",
      "source": [
        "res=ops(9,13)\n",
        "print(res)"
      ],
      "metadata": {
        "colab": {
          "base_uri": "https://localhost:8080/"
        },
        "id": "GJjVxkxt_fIS",
        "outputId": "b2fddaaf-156c-45bc-ea1b-aa5740603032"
      },
      "execution_count": 43,
      "outputs": [
        {
          "output_type": "stream",
          "name": "stdout",
          "text": [
            "(22, -4, 117)\n"
          ]
        }
      ]
    }
  ]
}