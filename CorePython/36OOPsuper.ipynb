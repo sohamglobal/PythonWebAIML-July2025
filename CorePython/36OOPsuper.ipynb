{
  "nbformat": 4,
  "nbformat_minor": 0,
  "metadata": {
    "colab": {
      "provenance": []
    },
    "kernelspec": {
      "name": "python3",
      "display_name": "Python 3"
    },
    "language_info": {
      "name": "python"
    }
  },
  "cells": [
    {
      "cell_type": "markdown",
      "source": [
        "super() is used to call the constructor of the base class from the constructor of the derived class"
      ],
      "metadata": {
        "id": "oiFZF8G7InHk"
      }
    },
    {
      "cell_type": "code",
      "execution_count": 13,
      "metadata": {
        "id": "SEkQWUixGPrF"
      },
      "outputs": [],
      "source": [
        "class Praffull:\n",
        "  def __init__(self,name):\n",
        "    print(f'Hello {name} from constructor of base')"
      ]
    },
    {
      "cell_type": "code",
      "source": [
        "class Soham(Praffull):\n",
        "  def __init__(self,name):\n",
        "    super().__init__(name)\n",
        "    print(f'Bye {name} from constructor of derived')"
      ],
      "metadata": {
        "id": "z1j_t3vAGnru"
      },
      "execution_count": 16,
      "outputs": []
    },
    {
      "cell_type": "code",
      "source": [
        "obj=Soham('sharayu')"
      ],
      "metadata": {
        "colab": {
          "base_uri": "https://localhost:8080/"
        },
        "id": "duIPAnpdHDoM",
        "outputId": "370b10ac-fbc5-4cd4-f96d-6b307d6ee92f"
      },
      "execution_count": 17,
      "outputs": [
        {
          "output_type": "stream",
          "name": "stdout",
          "text": [
            "Hello sharayu from constructor of base\n",
            "Bye sharayu from constructor of derived\n"
          ]
        }
      ]
    }
  ]
}