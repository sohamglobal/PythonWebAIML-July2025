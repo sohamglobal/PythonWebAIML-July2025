{
  "nbformat": 4,
  "nbformat_minor": 0,
  "metadata": {
    "colab": {
      "provenance": []
    },
    "kernelspec": {
      "name": "python3",
      "display_name": "Python 3"
    },
    "language_info": {
      "name": "python"
    }
  },
  "cells": [
    {
      "cell_type": "code",
      "execution_count": 7,
      "metadata": {
        "colab": {
          "base_uri": "https://localhost:8080/"
        },
        "id": "5fby-CdxTHqN",
        "outputId": "2dc709c4-edaf-4041-e36d-765edfb6bde4"
      },
      "outputs": [
        {
          "output_type": "stream",
          "name": "stdout",
          "text": [
            "<class 'set'>\n",
            "{'cummins', 'soham', 'root', 'praffull', 'buttler', 'sharayu'}\n"
          ]
        }
      ],
      "source": [
        "nm={'praffull','sharayu','soham','buttler','cummins','root'}\n",
        "print(type(nm))\n",
        "print(nm)\n",
        "#order is not maintained"
      ]
    },
    {
      "cell_type": "code",
      "source": [
        "films={'don','pk','the matrix','don','john wick','the matrix'}\n",
        "print(films)\n",
        "#Duplicates not allowed"
      ],
      "metadata": {
        "colab": {
          "base_uri": "https://localhost:8080/"
        },
        "id": "b1XYpyJbWAge",
        "outputId": "7a7452a2-5081-4fd3-9d47-10bd99db79b1"
      },
      "execution_count": 11,
      "outputs": [
        {
          "output_type": "stream",
          "name": "stdout",
          "text": [
            "{'the matrix', 'pk', 'john wick', 'don'}\n"
          ]
        }
      ]
    },
    {
      "cell_type": "code",
      "source": [
        "films.add('mission impossible')\n",
        "films.add('sholay')\n",
        "print(films)"
      ],
      "metadata": {
        "colab": {
          "base_uri": "https://localhost:8080/"
        },
        "id": "oXiC9C4pWmV2",
        "outputId": "0b23dd98-fb11-4188-ebae-b0936677abcf"
      },
      "execution_count": 12,
      "outputs": [
        {
          "output_type": "stream",
          "name": "stdout",
          "text": [
            "{'the matrix', 'pk', 'don', 'john wick', 'mission impossible', 'sholay'}\n"
          ]
        }
      ]
    },
    {
      "cell_type": "code",
      "source": [
        "films.remove('mission impossible')\n",
        "print(films)\n",
        "#set is mutable"
      ],
      "metadata": {
        "colab": {
          "base_uri": "https://localhost:8080/"
        },
        "id": "DTeC5VJVXqSX",
        "outputId": "7c247319-cb1e-462b-fbb0-318dad39200e"
      },
      "execution_count": 13,
      "outputs": [
        {
          "output_type": "stream",
          "name": "stdout",
          "text": [
            "{'the matrix', 'pk', 'don', 'john wick', 'sholay'}\n"
          ]
        }
      ]
    },
    {
      "cell_type": "code",
      "source": [
        "print(films[0])"
      ],
      "metadata": {
        "colab": {
          "base_uri": "https://localhost:8080/",
          "height": 141
        },
        "id": "leyQ32wEYEKA",
        "outputId": "c99dac22-ebc3-493a-ae6b-cc4654e4eff8"
      },
      "execution_count": 14,
      "outputs": [
        {
          "output_type": "error",
          "ename": "TypeError",
          "evalue": "'set' object is not subscriptable",
          "traceback": [
            "\u001b[0;31m---------------------------------------------------------------------------\u001b[0m",
            "\u001b[0;31mTypeError\u001b[0m                                 Traceback (most recent call last)",
            "\u001b[0;32m/tmp/ipython-input-14-204663604.py\u001b[0m in \u001b[0;36m<cell line: 0>\u001b[0;34m()\u001b[0m\n\u001b[0;32m----> 1\u001b[0;31m \u001b[0mprint\u001b[0m\u001b[0;34m(\u001b[0m\u001b[0mfilms\u001b[0m\u001b[0;34m[\u001b[0m\u001b[0;36m0\u001b[0m\u001b[0;34m]\u001b[0m\u001b[0;34m)\u001b[0m\u001b[0;34m\u001b[0m\u001b[0;34m\u001b[0m\u001b[0m\n\u001b[0m",
            "\u001b[0;31mTypeError\u001b[0m: 'set' object is not subscriptable"
          ]
        }
      ]
    },
    {
      "cell_type": "code",
      "source": [
        "print(films.pop())\n",
        "print(films)"
      ],
      "metadata": {
        "colab": {
          "base_uri": "https://localhost:8080/"
        },
        "id": "Q_wcGAR8YzrT",
        "outputId": "c6979d13-473f-43e1-fe2a-07d8b41d5892"
      },
      "execution_count": 15,
      "outputs": [
        {
          "output_type": "stream",
          "name": "stdout",
          "text": [
            "the matrix\n",
            "{'pk', 'don', 'john wick', 'sholay'}\n"
          ]
        }
      ]
    },
    {
      "cell_type": "code",
      "source": [
        "print(films.pop())\n",
        "print(films)"
      ],
      "metadata": {
        "colab": {
          "base_uri": "https://localhost:8080/"
        },
        "id": "nzUbRTzSY_kq",
        "outputId": "d94cc73f-622d-4ca8-f618-5e56bbfa25af"
      },
      "execution_count": 16,
      "outputs": [
        {
          "output_type": "stream",
          "name": "stdout",
          "text": [
            "pk\n",
            "{'don', 'john wick', 'sholay'}\n"
          ]
        }
      ]
    },
    {
      "cell_type": "code",
      "source": [
        "print(len(films))\n",
        "print(max(films))\n",
        "print(min(films))"
      ],
      "metadata": {
        "colab": {
          "base_uri": "https://localhost:8080/"
        },
        "id": "0UtA8GbcZ7h4",
        "outputId": "4e68b224-6b2b-4dfc-ae26-c42b3a5858e9"
      },
      "execution_count": 19,
      "outputs": [
        {
          "output_type": "stream",
          "name": "stdout",
          "text": [
            "3\n",
            "sholay\n",
            "don\n"
          ]
        }
      ]
    }
  ]
}