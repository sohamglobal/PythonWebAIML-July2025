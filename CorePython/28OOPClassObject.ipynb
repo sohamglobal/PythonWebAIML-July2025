{
  "nbformat": 4,
  "nbformat_minor": 0,
  "metadata": {
    "colab": {
      "provenance": []
    },
    "kernelspec": {
      "name": "python3",
      "display_name": "Python 3"
    },
    "language_info": {
      "name": "python"
    }
  },
  "cells": [
    {
      "cell_type": "code",
      "execution_count": 7,
      "metadata": {
        "id": "IVdZUwpFgBpY"
      },
      "outputs": [],
      "source": [
        "class Person:\n",
        "  def welcome(self):\n",
        "    print('Welcome to OOP in Python')\n",
        "    print('-'*35)\n",
        "  def thanks(self,nm):\n",
        "    print(f'thanks {nm} for joining sohamglobal')"
      ]
    },
    {
      "cell_type": "code",
      "source": [
        "# c++ -> Person obj;\n",
        "# Java -> Person obj=new Person();\n",
        "obj=Person()\n",
        "obj.welcome()\n",
        "obj.thanks('sharayu')"
      ],
      "metadata": {
        "colab": {
          "base_uri": "https://localhost:8080/"
        },
        "id": "MEKZ8SCghjb-",
        "outputId": "a7a4aa0b-f5bf-4baf-f91d-aa3d571152c8"
      },
      "execution_count": 8,
      "outputs": [
        {
          "output_type": "stream",
          "name": "stdout",
          "text": [
            "Welcome to OOP in Python\n",
            "-----------------------------------\n",
            "thanks sharayu for joining sohamglobal\n"
          ]
        }
      ]
    },
    {
      "cell_type": "code",
      "source": [
        "class Calculator:\n",
        "  def add(self,a,b):\n",
        "    res=a+b\n",
        "    print(f'sum of {a} and {b} is {res}')\n",
        "  def multipy(self,x,y):\n",
        "    res=x*y\n",
        "    print(f'multiplication of {x} and {y} is {res}')\n",
        "  def square(self,n):\n",
        "    sq=n**2\n",
        "    print(f'square of {n} is {sq}')"
      ],
      "metadata": {
        "id": "FRCCeJPkkoxX"
      },
      "execution_count": 9,
      "outputs": []
    },
    {
      "cell_type": "code",
      "source": [
        "cal=Calculator()\n",
        "cal.multipy(12,45)"
      ],
      "metadata": {
        "colab": {
          "base_uri": "https://localhost:8080/"
        },
        "id": "FjKR4uvKlbk0",
        "outputId": "ec1e61f2-0789-41b1-8979-e092a5beed5a"
      },
      "execution_count": 10,
      "outputs": [
        {
          "output_type": "stream",
          "name": "stdout",
          "text": [
            "multiplication of 12 and 45 is 540\n"
          ]
        }
      ]
    }
  ]
}