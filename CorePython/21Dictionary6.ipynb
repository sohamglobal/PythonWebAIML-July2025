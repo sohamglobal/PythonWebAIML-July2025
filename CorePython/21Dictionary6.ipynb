{
  "nbformat": 4,
  "nbformat_minor": 0,
  "metadata": {
    "colab": {
      "provenance": []
    },
    "kernelspec": {
      "name": "python3",
      "display_name": "Python 3"
    },
    "language_info": {
      "name": "python"
    }
  },
  "cells": [
    {
      "cell_type": "code",
      "execution_count": 1,
      "metadata": {
        "colab": {
          "base_uri": "https://localhost:8080/"
        },
        "id": "pmbvF5bAzfFf",
        "outputId": "caf6fb1b-bef8-46de-8423-f367fd513eb3"
      },
      "outputs": [
        {
          "output_type": "stream",
          "name": "stdout",
          "text": [
            "{1: 1, 2: 4, 3: 9, 4: 16, 5: 25, 6: 36, 7: 49, 8: 64, 9: 81, 10: 100}\n"
          ]
        }
      ],
      "source": [
        "sq={x:x**2 for x in range(1,11)}\n",
        "print(sq)"
      ]
    },
    {
      "cell_type": "code",
      "source": [
        "eq={x:x*x+13*x+9 for x in range(1,11)}\n",
        "print(eq)"
      ],
      "metadata": {
        "colab": {
          "base_uri": "https://localhost:8080/"
        },
        "id": "1esVMXI-0Wwd",
        "outputId": "19406306-ac27-4560-9766-998caac86900"
      },
      "execution_count": 2,
      "outputs": [
        {
          "output_type": "stream",
          "name": "stdout",
          "text": [
            "{1: 23, 2: 39, 3: 57, 4: 77, 5: 99, 6: 123, 7: 149, 8: 177, 9: 207, 10: 239}\n"
          ]
        }
      ]
    },
    {
      "cell_type": "code",
      "source": [
        "sq={x:x*x for x in range(1,26) if x%2==1}\n",
        "print(sq)"
      ],
      "metadata": {
        "colab": {
          "base_uri": "https://localhost:8080/"
        },
        "id": "feP_CJbH0_S9",
        "outputId": "bd0ff3bc-c40e-4367-def7-ea8d87d6bccd"
      },
      "execution_count": 4,
      "outputs": [
        {
          "output_type": "stream",
          "name": "stdout",
          "text": [
            "{1: 1, 3: 9, 5: 25, 7: 49, 9: 81, 11: 121, 13: 169, 15: 225, 17: 289, 19: 361, 21: 441, 23: 529, 25: 625}\n"
          ]
        }
      ]
    },
    {
      "cell_type": "code",
      "source": [
        "from collections import defaultdict\n",
        "\n",
        "nms=['Cummins','AB Devillers','Buttler','Bob','Charlie']\n",
        "grouped=defaultdict(list)\n",
        "\n",
        "for n in nms:\n",
        "  grouped[n[0]].append(n)\n",
        "\n",
        "print(dict(grouped))"
      ],
      "metadata": {
        "colab": {
          "base_uri": "https://localhost:8080/"
        },
        "id": "-Y8k8xnL1j2E",
        "outputId": "a73d1525-9d56-45f3-944f-ec7562c70c22"
      },
      "execution_count": 5,
      "outputs": [
        {
          "output_type": "stream",
          "name": "stdout",
          "text": [
            "{'C': ['Cummins', 'Charlie'], 'A': ['AB Devillers'], 'B': ['Buttler', 'Bob']}\n"
          ]
        }
      ]
    },
    {
      "cell_type": "code",
      "source": [
        "players={\n",
        "    \"england\":\"ollie pope\",\n",
        "    \"liverpool\":\"mohammed salah\",\n",
        "    \"chelsea\":\"cole palmer\",\n",
        "    \"australia\":\"mitchell starc\",\n",
        "    \"india\":\"kl rahul\"\n",
        "}\n",
        "print(players)"
      ],
      "metadata": {
        "colab": {
          "base_uri": "https://localhost:8080/"
        },
        "id": "YH9MlZ7j20VR",
        "outputId": "2558039a-af92-4de1-8490-917f276cfdd1"
      },
      "execution_count": 6,
      "outputs": [
        {
          "output_type": "stream",
          "name": "stdout",
          "text": [
            "{'england': 'ollie pope', 'liverpool': 'mohammed salah', 'chelsea': 'cole palmer', 'australia': 'mitchell starc', 'india': 'kl rahul'}\n"
          ]
        }
      ]
    },
    {
      "cell_type": "code",
      "source": [
        "team=input('Enter team : ')\n",
        "if team in players:\n",
        "  print(players[team])\n",
        "else:\n",
        "  print('not found')"
      ],
      "metadata": {
        "colab": {
          "base_uri": "https://localhost:8080/"
        },
        "id": "bzwMWCrR3wWz",
        "outputId": "994fd5da-13fd-4c62-f114-afa16ce90cda"
      },
      "execution_count": 12,
      "outputs": [
        {
          "output_type": "stream",
          "name": "stdout",
          "text": [
            "Enter team : france\n",
            "not found\n"
          ]
        }
      ]
    },
    {
      "cell_type": "code",
      "source": [
        "a={'x':9,'y':13}\n",
        "b={'y':26,'z':1}\n",
        "\n",
        "res=a | b\n",
        "print(res)"
      ],
      "metadata": {
        "colab": {
          "base_uri": "https://localhost:8080/"
        },
        "id": "gF4ka9cg4qwc",
        "outputId": "eb83ac7b-d8c8-4cb1-ce36-dfb0da3a277c"
      },
      "execution_count": 13,
      "outputs": [
        {
          "output_type": "stream",
          "name": "stdout",
          "text": [
            "{'x': 9, 'y': 26, 'z': 1}\n"
          ]
        }
      ]
    },
    {
      "cell_type": "code",
      "source": [
        "profile={\n",
        "    'name':'praffull',\n",
        "    'company':'sohamglobal',\n",
        "    'mobile':'7391966656',\n",
        "    'email':'praffull@outlook.com',\n",
        "    'isalive':True\n",
        "}\n",
        "print(profile)"
      ],
      "metadata": {
        "colab": {
          "base_uri": "https://localhost:8080/"
        },
        "id": "X9CizZ2t5Yh2",
        "outputId": "402de18f-46ba-4f68-8705-696b90aef180"
      },
      "execution_count": 14,
      "outputs": [
        {
          "output_type": "stream",
          "name": "stdout",
          "text": [
            "{'name': 'praffull', 'company': 'sohamglobal', 'mobile': '7391966656', 'email': 'praffull@outlook.com', 'isalive': True}\n"
          ]
        }
      ]
    },
    {
      "cell_type": "code",
      "source": [
        "print(profile['company'])\n",
        "#print(profile['city'])\n",
        "print(profile.get('company'))\n",
        "print(profile.get('city'))"
      ],
      "metadata": {
        "colab": {
          "base_uri": "https://localhost:8080/"
        },
        "id": "O3Sllt0C5wTD",
        "outputId": "4b4309c2-525c-4b61-f5dd-00a324ecf587"
      },
      "execution_count": 19,
      "outputs": [
        {
          "output_type": "stream",
          "name": "stdout",
          "text": [
            "sohamglobal\n",
            "sohamglobal\n",
            "None\n"
          ]
        }
      ]
    },
    {
      "cell_type": "code",
      "source": [
        "scores={'praffull':62,'soham':89,'sharayu':58,'megha':75}\n",
        "sorted=dict(sorted(scores.items(),key=lambda x:x[1],reverse=True))\n",
        "print(sorted)"
      ],
      "metadata": {
        "colab": {
          "base_uri": "https://localhost:8080/"
        },
        "id": "k5GnBEvM6ivH",
        "outputId": "4729ad28-5062-4c83-b6ff-61691a31948d"
      },
      "execution_count": 20,
      "outputs": [
        {
          "output_type": "stream",
          "name": "stdout",
          "text": [
            "{'soham': 89, 'megha': 75, 'praffull': 62, 'sharayu': 58}\n"
          ]
        }
      ]
    },
    {
      "cell_type": "code",
      "source": [
        "dic={}\n",
        "cho='yes'\n",
        "\n",
        "while cho.lower()=='yes':\n",
        "  nm=input('Enter name : ')\n",
        "  ct=input('Enter city : ')\n",
        "  dic[nm]=ct\n",
        "  cho=input('Want to continue (yes/no) : ')\n",
        "\n",
        "print(dic)"
      ],
      "metadata": {
        "colab": {
          "base_uri": "https://localhost:8080/"
        },
        "id": "xeO48f3T8_6o",
        "outputId": "88b6a856-5b81-409d-e41b-2a95bb862582"
      },
      "execution_count": 22,
      "outputs": [
        {
          "output_type": "stream",
          "name": "stdout",
          "text": [
            "Enter name : salah\n",
            "Enter city : cairo\n",
            "Want to continue (yes/no) : yes\n",
            "Enter name : leclerc\n",
            "Enter city : monaco\n",
            "Want to continue (yes/no) : yes\n",
            "Enter name : cummins\n",
            "Enter city : sydney\n",
            "Want to continue (yes/no) : yes\n",
            "Enter name : salah\n",
            "Enter city : london\n",
            "Want to continue (yes/no) : no\n",
            "{'salah': 'london', 'leclerc': 'monaco', 'cummins': 'sydney'}\n"
          ]
        }
      ]
    }
  ]
}