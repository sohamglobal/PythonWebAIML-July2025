{
  "nbformat": 4,
  "nbformat_minor": 0,
  "metadata": {
    "colab": {
      "provenance": []
    },
    "kernelspec": {
      "name": "python3",
      "display_name": "Python 3"
    },
    "language_info": {
      "name": "python"
    }
  },
  "cells": [
    {
      "cell_type": "markdown",
      "source": [
        "Repeat statements under a condition"
      ],
      "metadata": {
        "id": "BR5Jjvmn_WnU"
      }
    },
    {
      "cell_type": "code",
      "execution_count": 4,
      "metadata": {
        "colab": {
          "base_uri": "https://localhost:8080/"
        },
        "id": "8HUUPlj__Uhe",
        "outputId": "57076c94-378b-47de-f8d7-bcbe9a4d43fd"
      },
      "outputs": [
        {
          "name": "stdout",
          "output_type": "stream",
          "text": [
            "Enter your name : praffull\n",
            "thanks praffull\n",
            "Do you want to continue : (yes/no) yes\n",
            "Enter your name : sharayu\n",
            "thanks sharayu\n",
            "Do you want to continue : (yes/no) no\n"
          ]
        }
      ],
      "source": [
        "choice='yes'\n",
        "while choice=='yes':\n",
        "  nm=input('Enter your name : ')\n",
        "  print(f'thanks {nm}')\n",
        "  choice=input('Do you want to continue : (yes/no) ')"
      ]
    }
  ]
}