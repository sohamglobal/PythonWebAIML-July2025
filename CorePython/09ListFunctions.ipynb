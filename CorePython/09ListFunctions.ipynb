{
  "nbformat": 4,
  "nbformat_minor": 0,
  "metadata": {
    "colab": {
      "provenance": []
    },
    "kernelspec": {
      "name": "python3",
      "display_name": "Python 3"
    },
    "language_info": {
      "name": "python"
    }
  },
  "cells": [
    {
      "cell_type": "code",
      "execution_count": 4,
      "metadata": {
        "id": "xcvOT-mpcjxi"
      },
      "outputs": [],
      "source": [
        "x=9\n",
        "a=12.45\n",
        "b=''\n",
        "c=True"
      ]
    },
    {
      "cell_type": "code",
      "source": [
        "cities=[]\n",
        "print(type(cities))\n",
        "cities.append('london')\n",
        "cities.append('mumbai')\n",
        "cities.append('dubai')\n",
        "cities.append('london')\n",
        "print(cities)"
      ],
      "metadata": {
        "colab": {
          "base_uri": "https://localhost:8080/"
        },
        "id": "EDfi9jUHdBAR",
        "outputId": "c4b75a0c-7e9f-4c4b-83fd-50e75305508e"
      },
      "execution_count": 5,
      "outputs": [
        {
          "output_type": "stream",
          "name": "stdout",
          "text": [
            "<class 'list'>\n",
            "['london', 'mumbai', 'dubai', 'london']\n"
          ]
        }
      ]
    },
    {
      "cell_type": "code",
      "source": [
        "tech=['java','python','sql','spring','pandas']\n",
        "print(tech)\n",
        "tech.insert(2,'ai')\n",
        "print(tech)\n",
        "tech.remove('java')\n",
        "print(tech)\n",
        "tech.clear()\n",
        "print(tech)"
      ],
      "metadata": {
        "colab": {
          "base_uri": "https://localhost:8080/"
        },
        "id": "X9-o_kKYfSEr",
        "outputId": "395ac6d7-e2e7-4130-c5e8-c3824a6fdde6"
      },
      "execution_count": 11,
      "outputs": [
        {
          "output_type": "stream",
          "name": "stdout",
          "text": [
            "['java', 'python', 'sql', 'spring', 'pandas']\n",
            "['java', 'python', 'ai', 'sql', 'spring', 'pandas']\n",
            "['python', 'ai', 'sql', 'spring', 'pandas']\n",
            "[]\n"
          ]
        }
      ]
    },
    {
      "cell_type": "code",
      "source": [
        "nms=['sharayu','praffull','megha','soham','javed']\n",
        "print(nms)\n",
        "print(nms.pop())\n",
        "print(nms)"
      ],
      "metadata": {
        "colab": {
          "base_uri": "https://localhost:8080/"
        },
        "id": "Z-Ns95I6hmWB",
        "outputId": "7feff710-1bb2-45db-a742-8f13f29e1013"
      },
      "execution_count": 13,
      "outputs": [
        {
          "output_type": "stream",
          "name": "stdout",
          "text": [
            "['sharayu', 'praffull', 'megha', 'soham', 'javed']\n",
            "javed\n",
            "['sharayu', 'praffull', 'megha', 'soham']\n"
          ]
        }
      ]
    },
    {
      "cell_type": "code",
      "source": [
        "str='technology is power technology is future'\n",
        "lst=str.split()\n",
        "print(lst)\n",
        "print(lst.count('has'))"
      ],
      "metadata": {
        "colab": {
          "base_uri": "https://localhost:8080/"
        },
        "id": "4_eurZ0Girz_",
        "outputId": "013c7e14-e8fd-42f3-93ff-d471fe066cf1"
      },
      "execution_count": 17,
      "outputs": [
        {
          "output_type": "stream",
          "name": "stdout",
          "text": [
            "['technology', 'is', 'power', 'technology', 'is', 'future']\n",
            "0\n"
          ]
        }
      ]
    },
    {
      "cell_type": "code",
      "source": [
        "comp=['microsoft','volkswagen','apple','samsung','bmw','dell']\n",
        "#comp.sort()\n",
        "comp.sort(reverse=True)\n",
        "print(comp)"
      ],
      "metadata": {
        "colab": {
          "base_uri": "https://localhost:8080/"
        },
        "id": "lWwP-SlakIH_",
        "outputId": "def82aa8-9c1a-4c2e-94f0-9aad99380166"
      },
      "execution_count": 21,
      "outputs": [
        {
          "output_type": "stream",
          "name": "stdout",
          "text": [
            "['volkswagen', 'samsung', 'microsoft', 'dell', 'bmw', 'apple']\n"
          ]
        }
      ]
    },
    {
      "cell_type": "code",
      "source": [
        "comp=['microsoft','volkswagen','apple','samsung','bmw','dell']\n",
        "comp.reverse()\n",
        "print(comp)"
      ],
      "metadata": {
        "colab": {
          "base_uri": "https://localhost:8080/"
        },
        "id": "etD4szSMk76D",
        "outputId": "6288f442-e62d-43e5-d151-e9e7f0fc3b3b"
      },
      "execution_count": 23,
      "outputs": [
        {
          "output_type": "stream",
          "name": "stdout",
          "text": [
            "['dell', 'bmw', 'samsung', 'apple', 'volkswagen', 'microsoft']\n"
          ]
        }
      ]
    },
    {
      "cell_type": "code",
      "source": [
        "nums=[9,26,1,13,45,79,18,11]\n",
        "print(type(nums))\n",
        "nums.sort()\n",
        "print(nums)"
      ],
      "metadata": {
        "colab": {
          "base_uri": "https://localhost:8080/"
        },
        "id": "T8C4vjFSlZkd",
        "outputId": "3001d513-6276-4f5d-ac37-0573924c682b"
      },
      "execution_count": 25,
      "outputs": [
        {
          "output_type": "stream",
          "name": "stdout",
          "text": [
            "<class 'list'>\n",
            "[1, 9, 11, 13, 18, 26, 45, 79]\n"
          ]
        }
      ]
    },
    {
      "cell_type": "code",
      "source": [
        "lst=[9,'praffull',13.26,False]\n",
        "print(lst)"
      ],
      "metadata": {
        "colab": {
          "base_uri": "https://localhost:8080/"
        },
        "id": "3wX3En_7mB0l",
        "outputId": "aa3ac8b9-e4ae-4eeb-ef02-6ec73778f09a"
      },
      "execution_count": 26,
      "outputs": [
        {
          "output_type": "stream",
          "name": "stdout",
          "text": [
            "[9, 'praffull', 13.26, False]\n"
          ]
        }
      ]
    }
  ]
}