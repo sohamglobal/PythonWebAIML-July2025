{
  "nbformat": 4,
  "nbformat_minor": 0,
  "metadata": {
    "colab": {
      "provenance": []
    },
    "kernelspec": {
      "name": "python3",
      "display_name": "Python 3"
    },
    "language_info": {
      "name": "python"
    }
  },
  "cells": [
    {
      "cell_type": "markdown",
      "source": [
        "Constructor is a special function in the class that runs automatically when object is created. Name of the constructor in python must be underscoreunderscore**init**underscoreunderscore()"
      ],
      "metadata": {
        "id": "G4Df8oYMoo2-"
      }
    },
    {
      "cell_type": "code",
      "execution_count": 7,
      "metadata": {
        "id": "3zL5uUcEm5cJ"
      },
      "outputs": [],
      "source": [
        "class Customer:\n",
        "  def __init__(self):\n",
        "    print('Welcome to SohamGlobal shop')\n",
        "    print('-'*25)\n",
        "  def calcdiscount(self,amount):\n",
        "    if amount>10000:\n",
        "      discount=amount*13/100\n",
        "      print('discount 13% applied')\n",
        "    else:\n",
        "      discount=amount*9/100\n",
        "      print('discount 9% applied')\n",
        "\n",
        "    print(f'Amount : Rs.{amount} & Discount : Rs.{discount}')"
      ]
    },
    {
      "cell_type": "code",
      "source": [
        "cust1=Customer()\n",
        "cust1.calcdiscount(15700)"
      ],
      "metadata": {
        "colab": {
          "base_uri": "https://localhost:8080/"
        },
        "id": "pqCAofRrn4iG",
        "outputId": "5d5f5ec7-d42b-4cb4-f9b2-108e333dc3c8"
      },
      "execution_count": 8,
      "outputs": [
        {
          "output_type": "stream",
          "name": "stdout",
          "text": [
            "Welcome to SohamGlobal shop\n",
            "-------------------------\n",
            "discount 13% applied\n",
            "Amount : Rs.15700 & Discount : Rs.2041.0\n"
          ]
        }
      ]
    },
    {
      "cell_type": "code",
      "source": [
        "class Employee:\n",
        "  def __init__(self,ename,office):\n",
        "    print(f'Welcome {ename} to {office}')\n",
        "\n",
        "  def calctax(self,annualincome):\n",
        "    tax=annualincome*5/100\n",
        "    print(f'Your income tax will be {tax}')"
      ],
      "metadata": {
        "id": "j61OMt54qwAc"
      },
      "execution_count": 20,
      "outputs": []
    },
    {
      "cell_type": "code",
      "source": [
        "e=Employee('praffull','Microsoft')\n",
        "e.calctax(125000)"
      ],
      "metadata": {
        "colab": {
          "base_uri": "https://localhost:8080/"
        },
        "id": "SgwSeefyrK1p",
        "outputId": "f38b699b-8223-44a1-b90d-beda7d0e55d9"
      },
      "execution_count": 21,
      "outputs": [
        {
          "output_type": "stream",
          "name": "stdout",
          "text": [
            "Welcome praffull to Microsoft\n",
            "Your income tax will be 6250.0\n"
          ]
        }
      ]
    },
    {
      "cell_type": "code",
      "source": [
        "e1=Employee('soham','Volkswagen')\n",
        "e1.calctax(545000)"
      ],
      "metadata": {
        "colab": {
          "base_uri": "https://localhost:8080/"
        },
        "id": "KyU7CdvOsOUf",
        "outputId": "50a7ef56-7882-44b9-80d0-0e6037442cf9"
      },
      "execution_count": 22,
      "outputs": [
        {
          "output_type": "stream",
          "name": "stdout",
          "text": [
            "Welcome soham to Volkswagen\n",
            "Your income tax will be 27250.0\n"
          ]
        }
      ]
    }
  ]
}