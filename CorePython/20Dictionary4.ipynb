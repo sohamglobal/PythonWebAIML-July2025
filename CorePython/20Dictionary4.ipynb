{
  "nbformat": 4,
  "nbformat_minor": 0,
  "metadata": {
    "colab": {
      "provenance": []
    },
    "kernelspec": {
      "name": "python3",
      "display_name": "Python 3"
    },
    "language_info": {
      "name": "python"
    }
  },
  "cells": [
    {
      "cell_type": "code",
      "execution_count": 1,
      "metadata": {
        "colab": {
          "base_uri": "https://localhost:8080/"
        },
        "id": "ca7Am3t6xY_3",
        "outputId": "c6571e9f-e75b-4846-8bcb-1ade34e751ee"
      },
      "outputs": [
        {
          "output_type": "stream",
          "name": "stdout",
          "text": [
            "{'custnm': 'sharayu', 'product': 'laptop', 'model': 'latitude 5490', 'brand': 'dell', 'price': 79500.0, 'paymode': 'credit card'}\n"
          ]
        }
      ],
      "source": [
        "dic={\n",
        "    \"custnm\":\"sharayu\",\n",
        "    \"product\":\"laptop\",\n",
        "    \"model\":\"latitude 5490\",\n",
        "    \"brand\":\"dell\",\n",
        "    \"price\":79500.00,\n",
        "    'paymode':'credit card'\n",
        "}\n",
        "print(dic)"
      ]
    },
    {
      "cell_type": "code",
      "source": [
        "print(dic.keys())"
      ],
      "metadata": {
        "colab": {
          "base_uri": "https://localhost:8080/"
        },
        "id": "9ZSCK_xYx5TU",
        "outputId": "5813f18c-38dc-45ff-8146-9cf99a886fc1"
      },
      "execution_count": 2,
      "outputs": [
        {
          "output_type": "stream",
          "name": "stdout",
          "text": [
            "dict_keys(['custnm', 'product', 'model', 'brand', 'price', 'paymode'])\n"
          ]
        }
      ]
    },
    {
      "cell_type": "code",
      "source": [
        "for k in dic.keys():\n",
        "  print(k.upper())"
      ],
      "metadata": {
        "colab": {
          "base_uri": "https://localhost:8080/"
        },
        "id": "2sZGFkDoyCUC",
        "outputId": "cb3a8661-c33a-4bb0-ecfe-2059a262cb31"
      },
      "execution_count": 4,
      "outputs": [
        {
          "output_type": "stream",
          "name": "stdout",
          "text": [
            "CUSTNM\n",
            "PRODUCT\n",
            "MODEL\n",
            "BRAND\n",
            "PRICE\n",
            "PAYMODE\n"
          ]
        }
      ]
    },
    {
      "cell_type": "code",
      "source": [
        "print(dic.values())"
      ],
      "metadata": {
        "colab": {
          "base_uri": "https://localhost:8080/"
        },
        "id": "Q9URBuDayOKo",
        "outputId": "9a75f1c2-1018-4fd1-8011-9a61d3e63598"
      },
      "execution_count": 5,
      "outputs": [
        {
          "output_type": "stream",
          "name": "stdout",
          "text": [
            "dict_values(['sharayu', 'laptop', 'latitude 5490', 'dell', 79500.0, 'credit card'])\n"
          ]
        }
      ]
    },
    {
      "cell_type": "code",
      "source": [
        "for v in dic.values():\n",
        "  print(v)"
      ],
      "metadata": {
        "colab": {
          "base_uri": "https://localhost:8080/"
        },
        "id": "gXJQbr6xyS8Y",
        "outputId": "9f44dcf5-e251-404f-d7d8-93e9bc2e06ea"
      },
      "execution_count": 6,
      "outputs": [
        {
          "output_type": "stream",
          "name": "stdout",
          "text": [
            "sharayu\n",
            "laptop\n",
            "latitude 5490\n",
            "dell\n",
            "79500.0\n",
            "credit card\n"
          ]
        }
      ]
    },
    {
      "cell_type": "code",
      "source": [
        "print(dic.items())"
      ],
      "metadata": {
        "colab": {
          "base_uri": "https://localhost:8080/"
        },
        "id": "9pKsj_1Vyko8",
        "outputId": "f560642e-f896-48cd-f766-69ed7f777ab9"
      },
      "execution_count": 7,
      "outputs": [
        {
          "output_type": "stream",
          "name": "stdout",
          "text": [
            "dict_items([('custnm', 'sharayu'), ('product', 'laptop'), ('model', 'latitude 5490'), ('brand', 'dell'), ('price', 79500.0), ('paymode', 'credit card')])\n"
          ]
        }
      ]
    },
    {
      "cell_type": "code",
      "source": [
        "for i in dic.items():\n",
        "  print(i)"
      ],
      "metadata": {
        "colab": {
          "base_uri": "https://localhost:8080/"
        },
        "id": "tFGGL7zNyv6G",
        "outputId": "10eefe7b-66ba-4835-b6ad-3623b33c2650"
      },
      "execution_count": 8,
      "outputs": [
        {
          "output_type": "stream",
          "name": "stdout",
          "text": [
            "('custnm', 'sharayu')\n",
            "('product', 'laptop')\n",
            "('model', 'latitude 5490')\n",
            "('brand', 'dell')\n",
            "('price', 79500.0)\n",
            "('paymode', 'credit card')\n"
          ]
        }
      ]
    }
  ]
}